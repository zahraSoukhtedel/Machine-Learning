{
  "cells": [
    {
      "cell_type": "markdown",
      "metadata": {
        "id": "phymoUNVBO0k"
      },
      "source": [
        "<img src='http://www-scf.usc.edu/~ghasemig/images/sharif.png' alt=\"SUT logo\" width=200 height=200 align=left class=\"saturate\" >\n",
        "\n",
        "<br>\n",
        "<font face=\"Times New Roman\">\n",
        "<div dir=ltr align=center>\n",
        "<font color=0F5298 size=7>\n",
        "    Introduction to Machine Learning <br>\n",
        "<font color=2565AE size=5>\n",
        "    Computer Engineering Department <br>\n",
        "    Fall 2022<br>\n",
        "<font color=3C99D size=5>\n",
        "    Homework 3: Practical - Neural Network <br>\n",
        "<font color=696880 size=4>\n",
        "    Javad Hezareh \n",
        "    \n",
        "    \n",
        "____\n"
      ]
    },
    {
      "cell_type": "markdown",
      "metadata": {
        "id": "931ZXBX_BO0n"
      },
      "source": [
        "### Full Name : Zahra Soukhtedel\n",
        "### Student Number : 98105138\n",
        "___"
      ]
    },
    {
      "cell_type": "markdown",
      "metadata": {
        "id": "_6WGhaviBO0n"
      },
      "source": [
        "# Problem\n",
        "In this assignment our goal is to develop a framework for simple neural networks, multi layer perceptrons. We are going to use only `numpy` and no other packages to build our own classes and network."
      ]
    },
    {
      "cell_type": "markdown",
      "metadata": {
        "id": "gy_rRyHHBO0o"
      },
      "source": [
        "# Setup"
      ]
    },
    {
      "cell_type": "code",
      "execution_count": 19,
      "metadata": {
        "id": "D_a46D-Gz3Rj"
      },
      "outputs": [],
      "source": [
        "###################################\n",
        "#  Do Not Add any other packages  #\n",
        "###################################\n",
        "\n",
        "import numpy as np\n",
        "import seaborn as sn\n",
        "import matplotlib.pyplot as plt\n",
        "import tqdm\n",
        "import copy\n",
        "from utils import *\n",
        "\n",
        "plt.style.use('ggplot')"
      ]
    },
    {
      "cell_type": "markdown",
      "metadata": {
        "id": "Sf5Yc_hjBO0p"
      },
      "source": [
        "# Section 1: Modules implementation (65 Points)\n",
        "We are going to implement required modules for a neural net. Each of this modules must implement the neccessery functions, `_forward` and `backward`. In the following parts, we will implement `LinearLayer`, `ReLU` and `SoftMax` layers."
      ]
    },
    {
      "cell_type": "markdown",
      "metadata": {
        "id": "Uihm8cKTBO0q"
      },
      "source": [
        "## Layers"
      ]
    },
    {
      "cell_type": "markdown",
      "metadata": {
        "id": "AJI3rncSBO0r"
      },
      "source": [
        "#### Linear Layer (10 Points)"
      ]
    },
    {
      "cell_type": "code",
      "execution_count": 20,
      "metadata": {
        "id": "moGEgpV999cl"
      },
      "outputs": [],
      "source": [
        "class LinearLayer(Module):\n",
        "    \"\"\"\n",
        "    A linear layer module which calculate (Wx + b).\n",
        "    \"\"\"\n",
        "\n",
        "    def __init__(self, dim_in, dim_out, initializer, reg, alpha):\n",
        "        \"\"\"\n",
        "        Args:\n",
        "            - dim_in: input dimension,\n",
        "            - dim_out: output dimension,\n",
        "            - initializer: a function which get (dim_in, dim_out) and initialize\n",
        "                a [dim_in x dim_out] matrix,\n",
        "            - reg: L2-regularization flag\n",
        "            - alpha: L2-regularization coefficient\n",
        "        \"\"\"\n",
        "        self.dim_in = dim_in\n",
        "        self.dim_out = dim_out\n",
        "        self.params = {\n",
        "            #########################################\n",
        "            ##          Initialize parameters      ##\n",
        "            ##              Your Code              ##\n",
        "            #########################################\n",
        "            'W': initializer(dim_in, dim_out),\n",
        "            'b': np.zeros((dim_out)),\n",
        "            'alpha' : alpha,\n",
        "            'reg' : reg\n",
        "        }\n",
        "        self.grads = dict()\n",
        "        self.cache = dict()\n",
        "        self.reg = reg\n",
        "        self.alpha = alpha\n",
        "\n",
        "    def _forward(self, x):\n",
        "        \"\"\"\n",
        "        linear forward function, calculate Wx+b for a batch of data\n",
        "\n",
        "        Args:\n",
        "            x : a batch of data\n",
        "\n",
        "        Note:\n",
        "            you need to store some values in cache to be able to\n",
        "            calculate backward path.\n",
        "        \"\"\"\n",
        "        W = np.array(self.params['W'])\n",
        "        b = np.array(self.params['b'])\n",
        "        y = np.dot(x, W.T) + b\n",
        "        self.cache = (x, W, b)\n",
        "        return y\n",
        "\n",
        "    def backward(self, upstream):\n",
        "        \"\"\"\n",
        "        get upstream gradient and returns downstream gradient\n",
        "\n",
        "        Args:\n",
        "            upstream : upstream gradient of loss w.r.t module output\n",
        "\n",
        "        Note:\n",
        "            you need to calculate gradient of loss w.r.t module input\n",
        "            and parameters and store them in grads.\n",
        "        \"\"\"\n",
        "        #########################################\n",
        "        ##              Your Code              ##\n",
        "        #########################################\n",
        "        x, W, b = self.cache\n",
        "        grad_b = np.sum(upstream, axis=1)\n",
        "        grad_w = np.dot(upstream.T , x)\n",
        "        grad_x = np.dot(upstream, W)\n",
        "        grad_reg = 2*self.alpha*W\n",
        "\n",
        "        self.grads = {\n",
        "            'W': grad_w,\n",
        "            'b': grad_b,\n",
        "            'x': grad_x,\n",
        "            'reg': grad_reg\n",
        "        }\n"
      ]
    },
    {
      "cell_type": "code",
      "execution_count": 21,
      "metadata": {
        "colab": {
          "base_uri": "https://localhost:8080/"
        },
        "id": "-8hOOVzbBO0s",
        "outputId": "e1c4f948-5fdf-4351-90da-ceed225f1366"
      },
      "outputs": [
        {
          "output_type": "stream",
          "name": "stdout",
          "text": [
            "Gradient of loss w.r.t output:\n",
            "[[0.82955535 0.21114721 0.29056745 0.76196253 0.48381119 0.26313752\n",
            "  0.17058744 0.68924104 0.14521547 0.36108282]\n",
            " [0.17969557 0.61131998 0.90547691 0.09465278 0.04351438 0.82898441\n",
            "  0.53347611 0.25746229 0.83709683 0.91589097]\n",
            " [0.95338569 0.53886974 0.68147718 0.14543317 0.36605854 0.25725115\n",
            "  0.64065521 0.99467217 0.84735271 0.6116583 ]\n",
            " [0.6585274  0.09264464 0.55180917 0.84839143 0.74920247 0.66146217\n",
            "  0.48228694 0.96546312 0.48159736 0.23890255]\n",
            " [0.62490249 0.71391215 0.39654666 0.08349731 0.25206548 0.14235356\n",
            "  0.84943899 0.30579129 0.18025764 0.72632517]\n",
            " [0.07006783 0.77688796 0.90754448 0.97929669 0.15398316 0.39885902\n",
            "  0.85437948 0.42579468 0.34963434 0.91473698]\n",
            " [0.92071169 0.33599422 0.31872931 0.63541889 0.58434891 0.17077758\n",
            "  0.11395208 0.59733395 0.64102327 0.2976854 ]\n",
            " [0.36232214 0.94163488 0.10551311 0.04220206 0.55321597 0.03134844\n",
            "  0.82945429 0.71557495 0.4421455  0.89943093]\n",
            " [0.15358404 0.01888662 0.93738637 0.70363497 0.25615749 0.52405876\n",
            "  0.07851757 0.82801702 0.82128155 0.6839097 ]\n",
            " [0.43418109 0.88647521 0.26329912 0.97095353 0.84626562 0.99043451\n",
            "  0.17365826 0.97193332 0.63421181 0.30386288]]\n",
            "Gradient of loss w.r.t input:\n",
            "[[ 1.40015107 -0.64919261  1.24722199 -1.46034391  1.28080947]\n",
            " [ 0.22252435 -2.37247432 -0.43400842 -1.57058801  2.5784366 ]\n",
            " [ 2.35964322 -2.01097745  1.28649065 -1.89016285  3.67968089]\n",
            " [ 1.62485179 -1.53928566  1.02747385 -1.64869733  2.6128514 ]\n",
            " [ 1.44259399 -1.81213402  0.73110176 -1.72105269  1.73179596]\n",
            " [ 0.95302108 -2.28207984 -0.08612918 -1.7979914   2.49189214]\n",
            " [ 2.00679047 -0.9623197   1.37808362 -1.16374768  1.84596671]\n",
            " [ 2.21081702 -3.09451579  0.29580178 -2.25955108  2.64470923]\n",
            " [ 0.43488956 -1.64940975  0.04366605 -1.00887852  3.20206904]\n",
            " [ 1.82925194 -2.22206884 -0.11081879 -3.02923856  1.76464424]]\n",
            "Gradient of loss w.r.t W:\n",
            "[[-0.07413355  0.8180963  -1.73793658 -0.45139637  3.23746074]\n",
            " [ 1.38987484  1.75706974  1.70546404  1.23489814  0.52410581]\n",
            " [ 0.00630421  1.9269733   0.60665643 -0.28003495  1.57116444]\n",
            " [-1.30000989  2.46883827 -2.94957165 -1.16933264  2.30895259]\n",
            " [-0.69867041  0.79617667 -1.6757166  -0.78370106  2.21580388]\n",
            " [-0.00371523  0.94336928  0.06701201 -1.82406556  1.88801468]\n",
            " [ 0.77006194  1.73546778  1.20094719  0.88269164  1.55779322]\n",
            " [-1.75200249  2.33289953 -2.01195638 -0.91585754  3.49752565]\n",
            " [ 0.08158199  0.8489505   0.76333291 -0.2555532   1.17878441]\n",
            " [ 1.07245762  2.17299004  2.54049985  1.16759882  0.44437057]]\n",
            "Gradient of loss w.r.t b:\n",
            "[4.20630802 5.20757024 6.03681385 5.73028725 4.27509073 5.83118463\n",
            " 4.6159753  4.92284228 5.00543409 6.47527535]\n",
            "Relative error of delta-loss (for linear unit):\n",
            "1.4579851507050534e-05\n",
            "Relative error of delta-loss (for regularization):\n",
            "0.9980027269306732\n"
          ]
        }
      ],
      "source": [
        "# sanity check, output must be from o(e-5)\n",
        "initializer = lambda x, y: np.random.normal(size=(y, x))\n",
        "linear = LinearLayer(5, 10, initializer, reg=True, alpha=0.001)\n",
        "check_gradient_linear(linear, h=0.00001)"
      ]
    },
    {
      "cell_type": "markdown",
      "metadata": {
        "id": "lq4QKLETBO0t"
      },
      "source": [
        "#### ReLU Layer (5 Points)"
      ]
    },
    {
      "cell_type": "code",
      "execution_count": 24,
      "metadata": {
        "id": "RSsLumM29_eT"
      },
      "outputs": [],
      "source": [
        "class ReLU(Module):\n",
        "    \"\"\"\n",
        "    Rectified Linear Unit function\n",
        "    \"\"\"\n",
        "\n",
        "    def __init__(self):\n",
        "        self.cache = dict()\n",
        "        self.grads = dict()\n",
        "\n",
        "    def _forward(self, x):\n",
        "        \"\"\"\n",
        "        applies relu function on x\n",
        "\n",
        "        Args:\n",
        "            x : a batch of data\n",
        "\n",
        "        Returns:\n",
        "            y : relu of input\n",
        "        \"\"\"\n",
        "        #########################################\n",
        "        ##              Your Code              ##\n",
        "        #########################################\n",
        "        y = np.array(x, copy= True)\n",
        "        y [y <= 0] = 0\n",
        "        self.cache = x\n",
        "        return y\n",
        "\n",
        "    def backward(self, upstream):\n",
        "        \"\"\"\n",
        "        calculate and store gradient of loss w.r.t module input\n",
        "\n",
        "        Args:\n",
        "            upstream : gradient of loss w.r.t modele output\n",
        "        \"\"\"\n",
        "        #########################################\n",
        "        ##              Your Code              ##\n",
        "        #########################################\n",
        "        grad_x = (np.array(upstream, copy= True))\n",
        "        grad_x[self.cache <= 0] = 0\n",
        "\n",
        "        self.grads['x'] = grad_x\n"
      ]
    },
    {
      "cell_type": "code",
      "execution_count": 25,
      "metadata": {
        "colab": {
          "base_uri": "https://localhost:8080/"
        },
        "id": "R9gn82ZJBO0u",
        "outputId": "eea28208-15d7-4116-b91e-17d7c34be137"
      },
      "outputs": [
        {
          "output_type": "stream",
          "name": "stdout",
          "text": [
            "Gradient of loss w.r.t output:\n",
            "[[0.0584373  0.88325126 0.26846461 0.89464548 0.50320908]\n",
            " [0.09177401 0.38804983 0.72265477 0.53096799 0.3455338 ]\n",
            " [0.24378035 0.21950653 0.93640053 0.87820106 0.33644566]\n",
            " [0.87531923 0.36254974 0.54245228 0.95475059 0.96677731]\n",
            " [0.52121319 0.0189511  0.32733035 0.67793154 0.20010495]\n",
            " [0.7436883  0.46844046 0.26309046 0.4595906  0.83244012]\n",
            " [0.62944357 0.72287473 0.73348264 0.21539666 0.77413853]\n",
            " [0.20357441 0.51746258 0.75884962 0.6687436  0.51406511]\n",
            " [0.71992879 0.77988594 0.72842911 0.12522849 0.8795159 ]\n",
            " [0.64932805 0.24568954 0.25430494 0.42654584 0.25253977]]\n",
            "Gradient of loss w.r.t input:\n",
            "[[0.         0.88325126 0.         0.         0.        ]\n",
            " [0.         0.         0.         0.         0.        ]\n",
            " [0.         0.         0.93640053 0.         0.33644566]\n",
            " [0.87531923 0.36254974 0.         0.         0.96677731]\n",
            " [0.52121319 0.0189511  0.         0.67793154 0.20010495]\n",
            " [0.         0.46844046 0.26309046 0.         0.        ]\n",
            " [0.62944357 0.         0.         0.21539666 0.        ]\n",
            " [0.20357441 0.         0.75884962 0.         0.51406511]\n",
            " [0.         0.         0.72842911 0.         0.        ]\n",
            " [0.64932805 0.24568954 0.25430494 0.42654584 0.25253977]]\n",
            "Relative error of delta-loss:\n",
            "2.484727903125079e-14\n"
          ]
        }
      ],
      "source": [
        "# sanity check - output must be from o(e-8)\n",
        "relu = ReLU()\n",
        "check_gradient_relu(relu)"
      ]
    },
    {
      "cell_type": "markdown",
      "metadata": {
        "id": "TV5NRCG3BO0v"
      },
      "source": [
        "#### SoftMax Layer (15 Points)\n",
        "\n",
        "We could have a layer that calculate softmax for us. In other word, for input $x\\in\\mathcal{R}^N$ it would return $y\\in\\mathcal{R}^n$ where $y_i = \\frac{e^{x_i}}{\\sum e^{x_i}}$. But this method is not numerical stable because $e^{x_i}$ in this formulation can get very large easly and return `nan`. Instead of that we will implement a logarithmic version of softmax which instead of calculating $\\frac{e^{x_i}}{\\sum e^{x_i}}$, we will calculate $\\log\\left(\\frac{e^{x_i}}{\\sum e^{x_i}}\\right) = x_i - \\log\\sum e^{x_i}$. In order to calculate second term you can use `np.logaddexp` but this function only works on two input. For more than two input, fill in the following function to be able to calculate log sum exp of an array of shape (b,n). `axis=1` means sum over columns and `axis=0` sum over rows."
      ]
    },
    {
      "cell_type": "code",
      "execution_count": 26,
      "metadata": {
        "id": "wEDOOxOgBO0v"
      },
      "outputs": [],
      "source": [
        "def logsumexp(array, axis=1):\n",
        "    \"\"\"\n",
        "    calculate log(sum(exp(array))) using np.logaddexp\n",
        "\n",
        "    Args:\n",
        "        array : input array\n",
        "        axis : reduce axis, 1 means columns and 0 means rows\n",
        "    \"\"\"\n",
        "    assert len(array) >= 2\n",
        "    \n",
        "    softmax = np.amax(array, axis=axis, keepdims=True)\n",
        "    return np.log(np.sum(np.exp(array - softmax), axis=axis)) + softmax"
      ]
    },
    {
      "cell_type": "code",
      "execution_count": 27,
      "metadata": {
        "id": "R4v5_UBB-BCK"
      },
      "outputs": [],
      "source": [
        "class LogSoftMax(Module):\n",
        "    def __init__(self):\n",
        "        self.cache = dict()\n",
        "        self.grads = dict()\n",
        "\n",
        "    def _forward(self, x):\n",
        "        \"\"\"\n",
        "        get x and calculate softmax of that.\n",
        "\n",
        "        Args:\n",
        "            x : batch of data with shape (b,m)\n",
        "\n",
        "        Returns:\n",
        "            y : log softmax of x with shape (b,m)\n",
        "        \"\"\"\n",
        "        #########################################\n",
        "        ##              Your Code              ##\n",
        "        #########################################\n",
        "        y = x - logsumexp(x, 0)\n",
        "        self.cache = y\n",
        "        return y\n",
        "\n",
        "    def backward(self, upstream):\n",
        "        \"\"\"\n",
        "        calculate gradient of loss w.r.t module input and save that in grads.\n",
        "\n",
        "        Args:\n",
        "            upstream : gradient of loss w.r.t module output with sahpe (b,m)\n",
        "        \"\"\"\n",
        "        #########################################\n",
        "        ##              Your Code              ##\n",
        "        #########################################\n",
        "        grad_x = upstream - np.sum(upstream, 0, keepdims=True) * np.exp(self.cache)\n",
        "        self.grads['x'] = grad_x\n"
      ]
    },
    {
      "cell_type": "code",
      "execution_count": 28,
      "metadata": {
        "colab": {
          "base_uri": "https://localhost:8080/"
        },
        "id": "LS8vGaYPBO0v",
        "outputId": "982fedc2-b08e-4685-f650-b6c21c5cd967"
      },
      "outputs": [
        {
          "output_type": "stream",
          "name": "stdout",
          "text": [
            "Gradient of loss w.r.t output:\n",
            "[[0.1630331  0.13488387 0.64710355 0.267412   0.38909318]\n",
            " [0.17558247 0.28087961 0.28324271 0.94903849 0.49365313]\n",
            " [0.66110396 0.48183119 0.81942941 0.72267524 0.05972474]\n",
            " [0.23687506 0.58419898 0.63517021 0.34454597 0.22345524]\n",
            " [0.88441083 0.96840966 0.22989379 0.11408372 0.45871137]\n",
            " [0.00832097 0.74025973 0.43923602 0.0739073  0.96269913]\n",
            " [0.17190485 0.1383921  0.6479173  0.88009471 0.35911365]\n",
            " [0.42453736 0.08015594 0.24649505 0.0371008  0.95956135]\n",
            " [0.14149331 0.25348514 0.93081829 0.36581357 0.52428419]\n",
            " [0.23683714 0.9252707  0.18926396 0.4527474  0.47814843]]\n",
            "Gradient of loss w.r.t input:\n",
            "[[-0.17856701 -0.20837871  0.28868052 -0.13110957  0.00794666]\n",
            " [-0.11931073 -0.23982889 -0.24886216  0.45537549 -0.13800207]\n",
            " [ 0.34995133  0.20770767  0.27077555  0.19970769 -0.56142173]\n",
            " [ 0.05658271  0.26589525  0.29967548  0.11011559 -0.3690436 ]\n",
            " [ 0.50457597  0.37681144 -0.18053008 -0.35363145 -0.05209772]\n",
            " [-0.18495426  0.22872216 -0.24353994 -0.35373101  0.64580012]\n",
            " [-0.25314381 -0.33879778  0.05878168  0.37461933  0.08348218]\n",
            " [ 0.09730231 -0.3551013  -0.55441948 -0.19870621  0.59228741]\n",
            " [-0.25117539 -0.22987343  0.55891653 -0.10801566 -0.14536666]\n",
            " [-0.02126113  0.29284359 -0.2494781   0.00537581 -0.0635846 ]]\n",
            "Relative error of delta-loss:\n",
            "1.8417663597839936e-07\n"
          ]
        }
      ],
      "source": [
        "# sanity check, output must be from o(e-7)\n",
        "sm = LogSoftMax()\n",
        "check_gradient_softmax(sm)"
      ]
    },
    {
      "cell_type": "markdown",
      "metadata": {
        "id": "e5Fynk54BO0w"
      },
      "source": [
        "## Model (10 Points)\n",
        "We need a model class which gathers our layers togather and performs forward and backward on all of them."
      ]
    },
    {
      "cell_type": "code",
      "execution_count": 29,
      "metadata": {
        "id": "fmldZ2gaBO0w"
      },
      "outputs": [],
      "source": [
        "class MLPModel(Module):\n",
        "    \"\"\"\n",
        "    A multilayer neural network model\n",
        "    \"\"\"\n",
        "\n",
        "    def __init__(self, layers):\n",
        "        \"\"\"\n",
        "        Args:\n",
        "            layers : list of model layers\n",
        "        \"\"\"\n",
        "        self.layers = layers\n",
        "\n",
        "    def _forward(self, x):\n",
        "        \"\"\"\n",
        "        Perform forward on x\n",
        "\n",
        "        Args:\n",
        "            x : a batch of data\n",
        "\n",
        "        Returns:\n",
        "            o : model output\n",
        "        \"\"\"\n",
        "        #########################################\n",
        "        ##              Your Code              ##\n",
        "        #########################################\n",
        "        for layer in self.layers: x = layer._forward(x)\n",
        "        return x\n",
        "    \n",
        "    def backward(self, upstream):\n",
        "        \"\"\"\n",
        "        Perform backward path on whole model\n",
        "\n",
        "        Args:\n",
        "            upstream : gradient of loss w.r.t model output\n",
        "        \"\"\"\n",
        "        #########################################\n",
        "        ##              Your Code              ##\n",
        "        #########################################\n",
        "        for layer in reversed(self.layers): upstream = layer.backward(upstream)\n",
        "\n",
        "\n",
        "    def get_parameters(self):\n",
        "        \"\"\"\n",
        "        Returns:\n",
        "            parametric_layers : all layers of model which have parameter\n",
        "        \"\"\"\n",
        "        new_layers = []\n",
        "        for layer in self.layers:\n",
        "            if hasattr(layer, \"params\"):\n",
        "                new_layers.append(layer)\n",
        "        return new_layers"
      ]
    },
    {
      "cell_type": "markdown",
      "metadata": {
        "id": "0kMqo5L_BO0w"
      },
      "source": [
        "## Loss functions (10 Points)\n",
        "We need to implement loss functions to be able to train our network. We will implement CrossEntropy loss function. But notice that we have implemented `LogSoftMax` in logarithmic way so input of the following class will be logarithm of probabilities. "
      ]
    },
    {
      "cell_type": "code",
      "execution_count": 32,
      "metadata": {
        "id": "HIBN2fmBpYGG"
      },
      "outputs": [],
      "source": [
        "class CrossEntropyLoss(Module):\n",
        "    def __init__(self, mean=False):\n",
        "        self.mean = mean\n",
        "        self.cache = dict()\n",
        "        self.grads = dict()\n",
        "\n",
        "    def _forward(self, logprobs, targets):\n",
        "        \"\"\"\n",
        "        Calculate cross entropy of inputs.\n",
        "\n",
        "        Args:\n",
        "            probs : matrix of probabilities with shape (b,n)\n",
        "            targets : list of samples classes with shape (b,)\n",
        "\n",
        "        Returns:\n",
        "            y : cross entropy loss\n",
        "        \"\"\"\n",
        "        #########################################\n",
        "        ##              Your Code              ##\n",
        "        #########################################\n",
        "        b, n = logprobs.shape\n",
        "        each = np.zeros((b, n))\n",
        "        each[range(b), targets] = 1\n",
        "        y = - np.mean(np.sum(logprobs * each, axis=1))\n",
        "        self.cache = (y, logprobs, targets)\n",
        "        return y\n",
        "\n",
        "    def backward(self, upstream):\n",
        "        \"\"\"\n",
        "        Calculate gradient of loss w.r.t module input and save them in grads.\n",
        "\n",
        "        Args:\n",
        "            upstream : gradient of loss w.r.t module output (loss)\n",
        "        \"\"\"\n",
        "        #########################################\n",
        "        ##              Your Code              ##\n",
        "        #########################################\n",
        "        y, logprobs, targets = self.cache\n",
        "        b, n = logprobs.shape\n",
        "        grad = np.zeros((b, n))\n",
        "        grad[range(b),targets]=-(1/b)\n",
        "        self.grads['x'] = grad"
      ]
    },
    {
      "cell_type": "code",
      "execution_count": 33,
      "metadata": {
        "colab": {
          "base_uri": "https://localhost:8080/"
        },
        "id": "IlIsazT4BO0x",
        "outputId": "902806d2-bc70-4c30-af49-dab4c367fbdf"
      },
      "outputs": [
        {
          "output_type": "stream",
          "name": "stdout",
          "text": [
            "Gradient of loss w.r.t output:\n",
            "1\n",
            "Gradient of loss w.r.t input:\n",
            "[[ 0.  -0.1  0.   0.   0. ]\n",
            " [ 0.   0.   0.  -0.1  0. ]\n",
            " [ 0.   0.   0.   0.  -0.1]\n",
            " [-0.1  0.   0.   0.   0. ]\n",
            " [-0.1  0.   0.   0.   0. ]\n",
            " [ 0.  -0.1  0.   0.   0. ]\n",
            " [ 0.   0.   0.   0.  -0.1]\n",
            " [ 0.  -0.1  0.   0.   0. ]\n",
            " [ 0.  -0.1  0.   0.   0. ]\n",
            " [ 0.   0.   0.   0.  -0.1]]\n",
            "Relative error of delta-loss:\n",
            "3.327145416815998e-13\n"
          ]
        }
      ],
      "source": [
        "# check gradient, output must be from o(e-10)\n",
        "ce = CrossEntropyLoss()\n",
        "check_gradient_ce(ce, h=0.0001)"
      ]
    },
    {
      "cell_type": "markdown",
      "metadata": {
        "id": "JHExIUd-BO0x"
      },
      "source": [
        "## Optimization (15 Points)\n",
        "\n",
        "Now that we have our network and loss function, we need to update model paremeters. We can do so by using `Optimizer` class that perform updating rule on model parameters. You need to implement `sgd` and `momentum` strategy for this optimizer. Becarefull to consider regularization update for linear units that require regularization."
      ]
    },
    {
      "cell_type": "code",
      "execution_count": 34,
      "metadata": {
        "id": "pDROgraatB0p"
      },
      "outputs": [],
      "source": [
        "class Optimizer():\n",
        "    \"\"\"\n",
        "    Our main optimization class.\n",
        "    \n",
        "    You can add arguments to _sgd and _momentum function if you need to do so, and\n",
        "    pass this arguments to step function when using optimizer. Don't change __init__\n",
        "    or step function.\n",
        "    \"\"\"\n",
        "\n",
        "    def __init__(self, layers, strategy, lr):\n",
        "        \"\"\"\n",
        "        save layers here in order to update their parameters later.\n",
        "\n",
        "        Args:\n",
        "            layers : model layers (those that we want to update their parameters)\n",
        "            strategy : optimization strategy\n",
        "            lr : learning rate\n",
        "        \"\"\"\n",
        "        self.layers = layers\n",
        "        self.strategy = strategy\n",
        "        self.lr = lr\n",
        "        self.strategies = {\n",
        "            'sgd': self._sgd,\n",
        "            'momentum': self._momentum,\n",
        "        }\n",
        "\n",
        "    def step(self, *args):\n",
        "        \"\"\"\n",
        "        Perform updating strategy on all layers paramters.\n",
        "        \"\"\"\n",
        "        self.strategies[self.strategy](*args)\n",
        "\n",
        "    def _sgd(self):\n",
        "        \"\"\"\n",
        "        Perform sgd update on all parameters of layers\n",
        "        \"\"\"\n",
        "        #########################################\n",
        "        ##              Your Code              ##\n",
        "        #########################################\n",
        "        for layer in self.get_parameters():\n",
        "          layer.params[\"b\"] -=  self.lr * layer.grads[\"b\"]\n",
        "          layer.params[\"W\"] -=  self.lr * layer.grads[\"W\"]\n",
        "          if layer.reg: layer.params[\"W\"] -= self.lr * layer.grads[\"reg\"]\n",
        "              \n",
        "    \n",
        "    def _momentum(self):\n",
        "        \"\"\"\n",
        "        Perform momentum update on all parameters of layers\n",
        "        \"\"\"\n",
        "        #########################################\n",
        "        ##              Your Code              ##\n",
        "        #########################################\n",
        "        v = {}\n",
        "        for l in range(len(self.layers)):\n",
        "          layer = l + 1\n",
        "          v[\"db\"+ str(layer)] = np.zeros_like(layer.params[\"b\"])\n",
        "          v[\"dW\"+ str(layer)] = np.zeros_like(layer.params[\"W\"])\n",
        "\n",
        "        for l in self.layers:\n",
        "          layer = l\n",
        "          v[\"db\"+str(layer)] = self._momentum() * v[\"db\" + str(layer)] + (1 - self._momentum()) * l.grads['b']\n",
        "          layer.params[\"b\"] = layer.params[\"W\"] - self.lr * v[\"db\" + str(layer)]\n",
        "          v[\"dW\"+str(layer)] = self._momentum() * v[\"dW\" + str(layer)] + (1 - self._momentum()) * l.grads['W']\n",
        "          layer.params[\"W\"] = layer.params[\"W\"] - self.lr * v[\"dW\" + str(layer)]\n",
        "\n"
      ]
    },
    {
      "cell_type": "markdown",
      "metadata": {
        "id": "ir4i7UNCBO0y"
      },
      "source": [
        "# Section 2: CIFAR-10 Classification (35 Points)\n",
        "\n",
        "Now that we can build a neural network we want to solve CIFAR-10 classification problem. This dataset consists of 60000 $32 \\times 32$ coloured images in 10 classes."
      ]
    },
    {
      "cell_type": "markdown",
      "metadata": {
        "id": "TtOsaplhBO0y"
      },
      "source": [
        "## Data preparation (5 Points)"
      ]
    },
    {
      "cell_type": "code",
      "execution_count": 40,
      "metadata": {
        "colab": {
          "base_uri": "https://localhost:8080/"
        },
        "id": "P8DI_HKtBO0y",
        "outputId": "869dffe7-67fc-4183-fc45-01573b64347b"
      },
      "outputs": [
        {
          "output_type": "stream",
          "name": "stdout",
          "text": [
            "/bin/bash: ./cifar10_downloader.bash: Permission denied\n"
          ]
        }
      ],
      "source": [
        "#################################################\n",
        "##      Run this cell to download dataset      ##\n",
        "##         the dataset is about 150 MB         ##\n",
        "#################################################\n",
        "!./cifar10_downloader.bash"
      ]
    },
    {
      "cell_type": "code",
      "execution_count": 41,
      "metadata": {
        "colab": {
          "base_uri": "https://localhost:8080/",
          "height": 356
        },
        "id": "6mCPI2jdBO0y",
        "outputId": "4e956cf6-a225-4754-bb06-7411605b7764"
      },
      "outputs": [
        {
          "output_type": "error",
          "ename": "FileNotFoundError",
          "evalue": "ignored",
          "traceback": [
            "\u001b[0;31m---------------------------------------------------------------------------\u001b[0m",
            "\u001b[0;31mFileNotFoundError\u001b[0m                         Traceback (most recent call last)",
            "\u001b[0;32m<ipython-input-41-c9253b66da52>\u001b[0m in \u001b[0;36m<module>\u001b[0;34m\u001b[0m\n\u001b[1;32m      2\u001b[0m \u001b[0;31m##      Run this cell to load dataset      ##\u001b[0m\u001b[0;34m\u001b[0m\u001b[0;34m\u001b[0m\u001b[0;34m\u001b[0m\u001b[0m\n\u001b[1;32m      3\u001b[0m \u001b[0;31m#############################################\u001b[0m\u001b[0;34m\u001b[0m\u001b[0;34m\u001b[0m\u001b[0;34m\u001b[0m\u001b[0m\n\u001b[0;32m----> 4\u001b[0;31m \u001b[0mdata\u001b[0m \u001b[0;34m=\u001b[0m \u001b[0mload_dataset\u001b[0m\u001b[0;34m(\u001b[0m\u001b[0mtrain_num\u001b[0m\u001b[0;34m=\u001b[0m\u001b[0;36m4000\u001b[0m\u001b[0;34m,\u001b[0m \u001b[0mtest_num\u001b[0m\u001b[0;34m=\u001b[0m\u001b[0;36m1000\u001b[0m\u001b[0;34m)\u001b[0m\u001b[0;34m\u001b[0m\u001b[0;34m\u001b[0m\u001b[0m\n\u001b[0m\u001b[1;32m      5\u001b[0m \u001b[0;34m\u001b[0m\u001b[0m\n\u001b[1;32m      6\u001b[0m \u001b[0;32mfor\u001b[0m \u001b[0mk\u001b[0m \u001b[0;32min\u001b[0m \u001b[0mdata\u001b[0m\u001b[0;34m.\u001b[0m\u001b[0mkeys\u001b[0m\u001b[0;34m(\u001b[0m\u001b[0;34m)\u001b[0m\u001b[0;34m:\u001b[0m\u001b[0;34m\u001b[0m\u001b[0;34m\u001b[0m\u001b[0m\n",
            "\u001b[0;32m/content/utils.py\u001b[0m in \u001b[0;36mload_dataset\u001b[0;34m(train_num, test_num)\u001b[0m\n\u001b[1;32m    133\u001b[0m     \u001b[0mY\u001b[0m \u001b[0;34m=\u001b[0m \u001b[0mlist\u001b[0m\u001b[0;34m(\u001b[0m\u001b[0;34m)\u001b[0m\u001b[0;34m\u001b[0m\u001b[0;34m\u001b[0m\u001b[0m\n\u001b[1;32m    134\u001b[0m     \u001b[0;32mfor\u001b[0m \u001b[0mi\u001b[0m \u001b[0;32min\u001b[0m \u001b[0mrange\u001b[0m\u001b[0;34m(\u001b[0m\u001b[0;36m5\u001b[0m\u001b[0;34m)\u001b[0m\u001b[0;34m:\u001b[0m\u001b[0;34m\u001b[0m\u001b[0;34m\u001b[0m\u001b[0m\n\u001b[0;32m--> 135\u001b[0;31m         \u001b[0;32mwith\u001b[0m \u001b[0mopen\u001b[0m\u001b[0;34m(\u001b[0m\u001b[0;34mf'{path}/data_batch_{i+1}'\u001b[0m\u001b[0;34m,\u001b[0m \u001b[0;34m'rb'\u001b[0m\u001b[0;34m)\u001b[0m \u001b[0;32mas\u001b[0m \u001b[0mf\u001b[0m\u001b[0;34m:\u001b[0m\u001b[0;34m\u001b[0m\u001b[0;34m\u001b[0m\u001b[0m\n\u001b[0m\u001b[1;32m    136\u001b[0m             \u001b[0mdata\u001b[0m \u001b[0;34m=\u001b[0m \u001b[0mpickle\u001b[0m\u001b[0;34m.\u001b[0m\u001b[0mload\u001b[0m\u001b[0;34m(\u001b[0m\u001b[0mf\u001b[0m\u001b[0;34m,\u001b[0m \u001b[0mencoding\u001b[0m\u001b[0;34m=\u001b[0m\u001b[0;34m'latin1'\u001b[0m\u001b[0;34m)\u001b[0m\u001b[0;34m\u001b[0m\u001b[0;34m\u001b[0m\u001b[0m\n\u001b[1;32m    137\u001b[0m             \u001b[0mx\u001b[0m \u001b[0;34m=\u001b[0m \u001b[0mdata\u001b[0m\u001b[0;34m[\u001b[0m\u001b[0;34m'data'\u001b[0m\u001b[0;34m]\u001b[0m\u001b[0;34m\u001b[0m\u001b[0;34m\u001b[0m\u001b[0m\n",
            "\u001b[0;31mFileNotFoundError\u001b[0m: [Errno 2] No such file or directory: './cifar-10-batches-py/data_batch_1'"
          ]
        }
      ],
      "source": [
        "#############################################\n",
        "##      Run this cell to load dataset      ##\n",
        "#############################################\n",
        "data = load_dataset(train_num=4000, test_num=1000)\n",
        "\n",
        "for k in data.keys():\n",
        "    print(f'{k}: {data[k].shape}')"
      ]
    },
    {
      "cell_type": "code",
      "execution_count": null,
      "metadata": {
        "id": "Jh7ikEDtBO0y"
      },
      "outputs": [],
      "source": [
        "##############################################\n",
        "##      Split train set to train/val        ##\n",
        "################[Your Code]###################\n",
        "\n",
        "\n",
        "\n",
        "\n",
        "##############################################\n",
        "for k in data.keys():\n",
        "    print(f'{k}: {data[k].shape}')"
      ]
    },
    {
      "cell_type": "code",
      "execution_count": null,
      "metadata": {
        "id": "VM4wGjcaBO0z"
      },
      "outputs": [],
      "source": [
        "##################################################\n",
        "##      Visualize 5 samples from each class     ##\n",
        "##################[Your Code]#####################\n"
      ]
    },
    {
      "cell_type": "code",
      "execution_count": null,
      "metadata": {
        "id": "ijyz_oFfBO0z"
      },
      "outputs": [],
      "source": [
        "#####################################################\n",
        "##             Normalize and flatten X             ##\n",
        "####################[Your Code]######################\n",
        "\n",
        "\n",
        "\n",
        "\n",
        "#####################################################\n",
        "for k in data.keys():\n",
        "    print(f'{k}: {data[k].shape}')"
      ]
    },
    {
      "cell_type": "markdown",
      "metadata": {
        "id": "Ufd37E-UBO0z"
      },
      "source": [
        "## Train and Test Model (25 Points)"
      ]
    },
    {
      "cell_type": "markdown",
      "metadata": {
        "id": "5huHAGS7BO0z"
      },
      "source": [
        "### Batch Sampler\n",
        "We need to sample bathces from our dataset to train model. Complete the following class to have a random sampler."
      ]
    },
    {
      "cell_type": "code",
      "execution_count": null,
      "metadata": {
        "id": "teYgr5fIBO0z"
      },
      "outputs": [],
      "source": [
        "class RandomSampler(object):\n",
        "    def __init__(self, batch_size, dataset, type):\n",
        "        \"\"\"\n",
        "        Args:\n",
        "            batch_size : sampler batch size\n",
        "            dataset : dataset we want to get batch from that\n",
        "            type : one of {'train', 'test', 'val'}\n",
        "        \"\"\"\n",
        "        self.batch_size = batch_size\n",
        "        self.dataset = dataset\n",
        "        self.x_key = f'X_{type}'\n",
        "        self.y_key = f'Y_{type}'\n",
        "        self.indices = None\n",
        "        self.num_batches = None\n",
        "        ################################################################\n",
        "        ##       Build batches indices and store them in indices      ##\n",
        "        ##          Also store number of batches in num_batches       ##\n",
        "        ##                          Your Code                         ##\n",
        "        ################################################################\n",
        "\n",
        "    def __len__(self):\n",
        "        assert type(self.num_batches) == int\n",
        "        return self.num_batches\n",
        "\n",
        "    def __iter__(self):\n",
        "        \"\"\"\n",
        "        This function call when we iterate an object of this class and\n",
        "        yields one batch on each call.\n",
        "\n",
        "        Yields:\n",
        "            (x, y) : tuple of bathces of x and y\n",
        "        \"\"\"\n",
        "        for idx in self.indices:\n",
        "            x = self.dataset[self.x_key][idx]\n",
        "            y = self.dataset[self.y_key][idx]\n",
        "            yield x, y\n"
      ]
    },
    {
      "cell_type": "markdown",
      "metadata": {
        "id": "UeNa05rjBO00"
      },
      "source": [
        "Fill the following functions to update a confusion matrix and calculate f1 score for a confusion matrix. For multi class f1 score read [here](https://towardsdatascience.com/multi-class-metrics-made-simple-part-ii-the-f1-score-ebe8b2c2ca1)."
      ]
    },
    {
      "cell_type": "code",
      "execution_count": null,
      "metadata": {
        "id": "h2EnbP0XBO00"
      },
      "outputs": [],
      "source": [
        "def update_confusion_matrix(conf_matrix, preds, reals):\n",
        "    \"\"\"\n",
        "    Updates confusion matrix\n",
        "\n",
        "    Args:\n",
        "        conf_matrix : input confusion matrix\n",
        "        preds : array of predicted labels\n",
        "        reals : array of real labels\n",
        "\n",
        "    Returns:\n",
        "        conf_matrix : updated confusion matrix\n",
        "    \"\"\"\n",
        "    #################################\n",
        "    ##          Your Code          ##\n",
        "    #################################\n",
        "    return conf_matrix\n",
        "\n",
        "\n",
        "def f1_score(confusion_matrix):\n",
        "    \"\"\"\n",
        "    calculate macro f1 score from given confusion matrix\n",
        "\n",
        "    Args:\n",
        "        confusion_matrix : given confusion matrix\n",
        "        \n",
        "    Returns:\n",
        "        f1 : macro f1 score\n",
        "    \"\"\"\n",
        "    #################################\n",
        "    ##          Your Code          ##\n",
        "    #################################\n",
        "    f1_score = None\n",
        "    \n",
        "    \n",
        "    return f1_score"
      ]
    },
    {
      "cell_type": "markdown",
      "metadata": {
        "id": "WPA636V-BO00"
      },
      "source": [
        "### Define Model\n",
        "Define an MLP model to solve classification problem."
      ]
    },
    {
      "cell_type": "code",
      "execution_count": null,
      "metadata": {
        "id": "uwhNxBLHBO00"
      },
      "outputs": [],
      "source": [
        "###############################################\n",
        "##             Define your model             ##\n",
        "##     use a good initializer for layers     ##\n",
        "###############################################\n",
        "\n",
        "model = None"
      ]
    },
    {
      "cell_type": "code",
      "execution_count": null,
      "metadata": {
        "id": "VMoXXcpwBO00"
      },
      "outputs": [],
      "source": [
        "#########################################\n",
        "##          Hyper parameters           ##\n",
        "#########################################\n",
        "\n",
        "n_epochs = None\n",
        "batch_size = None\n",
        "lr = None\n",
        "reg_coeff = None"
      ]
    },
    {
      "cell_type": "code",
      "execution_count": null,
      "metadata": {
        "id": "J7Yno-vJBO00"
      },
      "outputs": [],
      "source": [
        "##################################################\n",
        "##      Define optimizer, loss and sampler      ##\n",
        "##################################################\n",
        "\n",
        "optimizer = None\n",
        "criterion = None\n",
        "train_sampler = None\n",
        "val_sampler = None\n",
        "test_sampler = None"
      ]
    },
    {
      "cell_type": "markdown",
      "metadata": {
        "id": "P64m9bouBO01"
      },
      "source": [
        "### Train Model\n",
        "\n",
        "Fill in the below cell to train the model. Store each epoch loss, accuracy and f1-score. Use f1-score to choose best epoch.\n",
        "\n",
        "**Note1**: To do backpropagation you need to first call `backward` function of criterion with 1 as its argument to have gradient of loss w.r.t output of this module and then using model `backward` function with `criterion.grads['x']` argument.\n",
        "\n",
        "**Note2**: You can ignore regularization term in your total loss value and just use criterion, but you must consider that during updating."
      ]
    },
    {
      "cell_type": "code",
      "execution_count": null,
      "metadata": {
        "id": "WjUXWqysBO01"
      },
      "outputs": [],
      "source": [
        "#########################################\n",
        "##      Train and Validation loop      ##\n",
        "#########################################\n",
        "train_losses, val_losses = [], []\n",
        "train_accs, val_accs = [], []\n",
        "train_f1, val_f1 = [], []\n",
        "best_model = None\n",
        "best_f1 = 0\n",
        "\n",
        "for epoch in range(n_epochs):\n",
        "    \n",
        "    # Train Phase\n",
        "    total_loss = 0\n",
        "    N = 0\n",
        "    confusion = np.zeros((10, 10))\n",
        "    with tqdm.tqdm(enumerate(train_sampler), total=len(train_sampler)) as pbar:\n",
        "        for i, (x, y) in pbar:\n",
        "            #################################\n",
        "            ##          Your Code          ##\n",
        "            #################################\n",
        "            \n",
        "            acc = None\n",
        "            f1 = None\n",
        "            pbar.set_description(f'Train {epoch} | Loss:{total_loss/N:.2e} | Acc: {acc:.2f}| F1: {f1:.2f}|')\n",
        "    \n",
        "    # save epoch metrics for train phase\n",
        "    train_losses.append(total_loss/N)\n",
        "    train_accs.append(acc)\n",
        "    train_f1.append(f1)\n",
        "    \n",
        "\n",
        "    # Validation Phase\n",
        "    total_loss = 0\n",
        "    N = 0\n",
        "    confusion = np.zeros((10, 10))\n",
        "    with tqdm.tqdm(enumerate(val_sampler), total=len(val_sampler)) as pbar:\n",
        "        for i, (x, y) in pbar:\n",
        "            #################################\n",
        "            ##          Your Code          ##\n",
        "            #################################\n",
        "            \n",
        "            acc = None\n",
        "            f1 = None\n",
        "            pbar.set_description(f'Val   {epoch} | Loss:{total_loss/N:.2e} | Acc: {acc:.2f}| F1: {f1:.2f}|')\n",
        "    \n",
        "    # save epoch metrics for validation phase\n",
        "    val_losses.append(total_loss/N)\n",
        "    val_accs.append(acc)\n",
        "    val_f1.append(f1)\n",
        "    \n",
        "    \n",
        "    #################################\n",
        "    ##       update best model     ##\n",
        "    ##          Your Code          ##\n",
        "    #################################\n",
        "    \n",
        "    \n",
        "    print(f'----------------------------[Epoch{epoch+1} finished!]----------------------------')"
      ]
    },
    {
      "cell_type": "markdown",
      "metadata": {
        "id": "sdgWgm6CBO01"
      },
      "source": [
        "### Test Model"
      ]
    },
    {
      "cell_type": "code",
      "execution_count": null,
      "metadata": {
        "id": "_ASTMOKqBO01"
      },
      "outputs": [],
      "source": [
        "######################################################################\n",
        "##      Plot train and validation loss, accuracy and f1 graphs      ##\n",
        "######################################################################\n"
      ]
    },
    {
      "cell_type": "code",
      "execution_count": null,
      "metadata": {
        "id": "HnSJQ9svBO01"
      },
      "outputs": [],
      "source": [
        "############################################################\n",
        "##                  Test your best model                  ##\n",
        "##          Report loss, accuracy and f1 metrics          ##\n",
        "##      Also plot the confusion matrix for test data      ##\n",
        "############################################################\n"
      ]
    },
    {
      "cell_type": "markdown",
      "metadata": {
        "id": "XbpKoklgBO02"
      },
      "source": [
        "## Weights Visualization (5 Points)\n",
        "\n",
        "For the last part we want to visualize weights matrix of the first layer."
      ]
    },
    {
      "cell_type": "code",
      "execution_count": null,
      "metadata": {
        "id": "B-KLh45xBO02"
      },
      "outputs": [],
      "source": [
        "##########################################################\n",
        "##          Visualize n of first layer weights          ##\n",
        "##          First reshape them to (32, 32, 3)           ##\n",
        "##########################################################\n",
        "n = 5\n"
      ]
    }
  ],
  "metadata": {
    "colab": {
      "provenance": []
    },
    "kernelspec": {
      "display_name": "Python 3 (ipykernel)",
      "language": "python",
      "name": "python3"
    },
    "language_info": {
      "codemirror_mode": {
        "name": "ipython",
        "version": 3
      },
      "file_extension": ".py",
      "mimetype": "text/x-python",
      "name": "python",
      "nbconvert_exporter": "python",
      "pygments_lexer": "ipython3",
      "version": "3.9.12"
    },
    "vscode": {
      "interpreter": {
        "hash": "81794d4967e6c3204c66dcd87b604927b115b27c00565d3d43f05ba2f3a2cb0d"
      }
    }
  },
  "nbformat": 4,
  "nbformat_minor": 0
}