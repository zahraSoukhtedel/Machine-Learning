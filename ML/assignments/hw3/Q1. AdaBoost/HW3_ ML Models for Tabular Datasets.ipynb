{
 "cells": [
  {
   "cell_type": "markdown",
   "id": "52d3a943",
   "metadata": {},
   "source": [
    "<img src='http://www-scf.usc.edu/~ghasemig/images/sharif.png' alt=\"SUT logo\" width=200 height=200 align=left class=\"saturate\" >\n",
    "\n",
    "<br>\n",
    "<font face=\"Times New Roman\">\n",
    "<div dir=ltr align=center>\n",
    "<font color=0F5298 size=7>\n",
    "    Introduction to Machine Learning <br>\n",
    "<font color=2565AE size=5>\n",
    "    Computer Engineering Department <br>\n",
    "    Fall 2022<br>\n",
    "<font color=3C99D size=5>\n",
    "    Homework 3: Practical - ML Models for Tabular Datasets <br>\n",
    "<font color=696880 size=4>\n",
    "    Niloufar Razani \n",
    "    \n",
    "    \n",
    "____"
   ]
  },
  {
   "cell_type": "markdown",
   "id": "afcf1f24",
   "metadata": {},
   "source": [
    "### Full Name : Zahra Soukhtedel\n",
    "### Student Number : 98105138\n",
    "___"
   ]
  },
  {
   "cell_type": "markdown",
   "id": "8c097381",
   "metadata": {},
   "source": [
    "<font face=\"Times New Roman\" size=4><div dir=ltr>\n",
    "In this homework we are going to implement Adaboost algorithm from scratch. Please read this chapter's <a href=\"https://github.com/asharifiz/Introduction_to_Machine_Learning/tree/main/Jupyter_Notebooks/Chapter_04_Tabular_Data_Models\"><font face=\"Roboto\">notebook</font></a> and then complete the #TODO sections. <br>\n",
    "We will use the heart_disease.csv dataset, which you can see more details about in this <a href=\"https://www.kaggle.com/datasets/johnsmith88/heart-disease-dataset?resource=download&select=heart.csv\"><font face=\"Roboto\">Link</font></a>.\n",
    "___"
   ]
  },
  {
   "cell_type": "code",
   "execution_count": 18,
   "id": "1a687a71",
   "metadata": {},
   "outputs": [],
   "source": [
    "import numpy as np\n",
    "import pandas as pd\n",
    "import seaborn as sns\n",
    "import matplotlib.pyplot as plt"
   ]
  },
  {
   "cell_type": "markdown",
   "id": "3b152c1e",
   "metadata": {},
   "source": [
    "### Data Prepration (10 points) \n",
    "1.   Load Dataset\n",
    "2.   Separate target feaure\n",
    "3.   Change class labels to 1 and -1\n",
    "4.   Do train-test split"
   ]
  },
  {
   "cell_type": "markdown",
   "id": "8dd6bfe5",
   "metadata": {},
   "source": [
    "### Load Dataset:"
   ]
  },
  {
   "cell_type": "code",
   "execution_count": 19,
   "id": "159d3986",
   "metadata": {},
   "outputs": [
    {
     "data": {
      "text/html": [
       "<div>\n",
       "<style scoped>\n",
       "    .dataframe tbody tr th:only-of-type {\n",
       "        vertical-align: middle;\n",
       "    }\n",
       "\n",
       "    .dataframe tbody tr th {\n",
       "        vertical-align: top;\n",
       "    }\n",
       "\n",
       "    .dataframe thead th {\n",
       "        text-align: right;\n",
       "    }\n",
       "</style>\n",
       "<table border=\"1\" class=\"dataframe\">\n",
       "  <thead>\n",
       "    <tr style=\"text-align: right;\">\n",
       "      <th></th>\n",
       "      <th>age</th>\n",
       "      <th>sex</th>\n",
       "      <th>cp</th>\n",
       "      <th>trestbps</th>\n",
       "      <th>chol</th>\n",
       "      <th>fbs</th>\n",
       "      <th>restecg</th>\n",
       "      <th>thalach</th>\n",
       "      <th>exang</th>\n",
       "      <th>oldpeak</th>\n",
       "      <th>slope</th>\n",
       "      <th>ca</th>\n",
       "      <th>thal</th>\n",
       "      <th>target</th>\n",
       "    </tr>\n",
       "  </thead>\n",
       "  <tbody>\n",
       "    <tr>\n",
       "      <th>0</th>\n",
       "      <td>52</td>\n",
       "      <td>1</td>\n",
       "      <td>0</td>\n",
       "      <td>125</td>\n",
       "      <td>212</td>\n",
       "      <td>0</td>\n",
       "      <td>1</td>\n",
       "      <td>168</td>\n",
       "      <td>0</td>\n",
       "      <td>1.0</td>\n",
       "      <td>2</td>\n",
       "      <td>2</td>\n",
       "      <td>3</td>\n",
       "      <td>0</td>\n",
       "    </tr>\n",
       "    <tr>\n",
       "      <th>1</th>\n",
       "      <td>53</td>\n",
       "      <td>1</td>\n",
       "      <td>0</td>\n",
       "      <td>140</td>\n",
       "      <td>203</td>\n",
       "      <td>1</td>\n",
       "      <td>0</td>\n",
       "      <td>155</td>\n",
       "      <td>1</td>\n",
       "      <td>3.1</td>\n",
       "      <td>0</td>\n",
       "      <td>0</td>\n",
       "      <td>3</td>\n",
       "      <td>0</td>\n",
       "    </tr>\n",
       "    <tr>\n",
       "      <th>2</th>\n",
       "      <td>70</td>\n",
       "      <td>1</td>\n",
       "      <td>0</td>\n",
       "      <td>145</td>\n",
       "      <td>174</td>\n",
       "      <td>0</td>\n",
       "      <td>1</td>\n",
       "      <td>125</td>\n",
       "      <td>1</td>\n",
       "      <td>2.6</td>\n",
       "      <td>0</td>\n",
       "      <td>0</td>\n",
       "      <td>3</td>\n",
       "      <td>0</td>\n",
       "    </tr>\n",
       "    <tr>\n",
       "      <th>3</th>\n",
       "      <td>61</td>\n",
       "      <td>1</td>\n",
       "      <td>0</td>\n",
       "      <td>148</td>\n",
       "      <td>203</td>\n",
       "      <td>0</td>\n",
       "      <td>1</td>\n",
       "      <td>161</td>\n",
       "      <td>0</td>\n",
       "      <td>0.0</td>\n",
       "      <td>2</td>\n",
       "      <td>1</td>\n",
       "      <td>3</td>\n",
       "      <td>0</td>\n",
       "    </tr>\n",
       "    <tr>\n",
       "      <th>4</th>\n",
       "      <td>62</td>\n",
       "      <td>0</td>\n",
       "      <td>0</td>\n",
       "      <td>138</td>\n",
       "      <td>294</td>\n",
       "      <td>1</td>\n",
       "      <td>1</td>\n",
       "      <td>106</td>\n",
       "      <td>0</td>\n",
       "      <td>1.9</td>\n",
       "      <td>1</td>\n",
       "      <td>3</td>\n",
       "      <td>2</td>\n",
       "      <td>0</td>\n",
       "    </tr>\n",
       "    <tr>\n",
       "      <th>...</th>\n",
       "      <td>...</td>\n",
       "      <td>...</td>\n",
       "      <td>...</td>\n",
       "      <td>...</td>\n",
       "      <td>...</td>\n",
       "      <td>...</td>\n",
       "      <td>...</td>\n",
       "      <td>...</td>\n",
       "      <td>...</td>\n",
       "      <td>...</td>\n",
       "      <td>...</td>\n",
       "      <td>...</td>\n",
       "      <td>...</td>\n",
       "      <td>...</td>\n",
       "    </tr>\n",
       "    <tr>\n",
       "      <th>1020</th>\n",
       "      <td>59</td>\n",
       "      <td>1</td>\n",
       "      <td>1</td>\n",
       "      <td>140</td>\n",
       "      <td>221</td>\n",
       "      <td>0</td>\n",
       "      <td>1</td>\n",
       "      <td>164</td>\n",
       "      <td>1</td>\n",
       "      <td>0.0</td>\n",
       "      <td>2</td>\n",
       "      <td>0</td>\n",
       "      <td>2</td>\n",
       "      <td>1</td>\n",
       "    </tr>\n",
       "    <tr>\n",
       "      <th>1021</th>\n",
       "      <td>60</td>\n",
       "      <td>1</td>\n",
       "      <td>0</td>\n",
       "      <td>125</td>\n",
       "      <td>258</td>\n",
       "      <td>0</td>\n",
       "      <td>0</td>\n",
       "      <td>141</td>\n",
       "      <td>1</td>\n",
       "      <td>2.8</td>\n",
       "      <td>1</td>\n",
       "      <td>1</td>\n",
       "      <td>3</td>\n",
       "      <td>0</td>\n",
       "    </tr>\n",
       "    <tr>\n",
       "      <th>1022</th>\n",
       "      <td>47</td>\n",
       "      <td>1</td>\n",
       "      <td>0</td>\n",
       "      <td>110</td>\n",
       "      <td>275</td>\n",
       "      <td>0</td>\n",
       "      <td>0</td>\n",
       "      <td>118</td>\n",
       "      <td>1</td>\n",
       "      <td>1.0</td>\n",
       "      <td>1</td>\n",
       "      <td>1</td>\n",
       "      <td>2</td>\n",
       "      <td>0</td>\n",
       "    </tr>\n",
       "    <tr>\n",
       "      <th>1023</th>\n",
       "      <td>50</td>\n",
       "      <td>0</td>\n",
       "      <td>0</td>\n",
       "      <td>110</td>\n",
       "      <td>254</td>\n",
       "      <td>0</td>\n",
       "      <td>0</td>\n",
       "      <td>159</td>\n",
       "      <td>0</td>\n",
       "      <td>0.0</td>\n",
       "      <td>2</td>\n",
       "      <td>0</td>\n",
       "      <td>2</td>\n",
       "      <td>1</td>\n",
       "    </tr>\n",
       "    <tr>\n",
       "      <th>1024</th>\n",
       "      <td>54</td>\n",
       "      <td>1</td>\n",
       "      <td>0</td>\n",
       "      <td>120</td>\n",
       "      <td>188</td>\n",
       "      <td>0</td>\n",
       "      <td>1</td>\n",
       "      <td>113</td>\n",
       "      <td>0</td>\n",
       "      <td>1.4</td>\n",
       "      <td>1</td>\n",
       "      <td>1</td>\n",
       "      <td>3</td>\n",
       "      <td>0</td>\n",
       "    </tr>\n",
       "  </tbody>\n",
       "</table>\n",
       "<p>1025 rows × 14 columns</p>\n",
       "</div>"
      ],
      "text/plain": [
       "      age  sex  cp  trestbps  chol  fbs  restecg  thalach  exang  oldpeak  \\\n",
       "0      52    1   0       125   212    0        1      168      0      1.0   \n",
       "1      53    1   0       140   203    1        0      155      1      3.1   \n",
       "2      70    1   0       145   174    0        1      125      1      2.6   \n",
       "3      61    1   0       148   203    0        1      161      0      0.0   \n",
       "4      62    0   0       138   294    1        1      106      0      1.9   \n",
       "...   ...  ...  ..       ...   ...  ...      ...      ...    ...      ...   \n",
       "1020   59    1   1       140   221    0        1      164      1      0.0   \n",
       "1021   60    1   0       125   258    0        0      141      1      2.8   \n",
       "1022   47    1   0       110   275    0        0      118      1      1.0   \n",
       "1023   50    0   0       110   254    0        0      159      0      0.0   \n",
       "1024   54    1   0       120   188    0        1      113      0      1.4   \n",
       "\n",
       "      slope  ca  thal  target  \n",
       "0         2   2     3       0  \n",
       "1         0   0     3       0  \n",
       "2         0   0     3       0  \n",
       "3         2   1     3       0  \n",
       "4         1   3     2       0  \n",
       "...     ...  ..   ...     ...  \n",
       "1020      2   0     2       1  \n",
       "1021      1   1     3       0  \n",
       "1022      1   1     2       0  \n",
       "1023      2   0     2       1  \n",
       "1024      1   1     3       0  \n",
       "\n",
       "[1025 rows x 14 columns]"
      ]
     },
     "execution_count": 19,
     "metadata": {},
     "output_type": "execute_result"
    }
   ],
   "source": [
    "dataset = pd.read_csv('heart_disease.csv')\n",
    "dataset"
   ]
  },
  {
   "cell_type": "code",
   "execution_count": 20,
   "id": "333d61ac",
   "metadata": {
    "scrolled": false
   },
   "outputs": [
    {
     "name": "stdout",
     "output_type": "stream",
     "text": [
      "<class 'pandas.core.frame.DataFrame'>\n",
      "RangeIndex: 1025 entries, 0 to 1024\n",
      "Data columns (total 14 columns):\n",
      " #   Column    Non-Null Count  Dtype  \n",
      "---  ------    --------------  -----  \n",
      " 0   age       1025 non-null   int64  \n",
      " 1   sex       1025 non-null   int64  \n",
      " 2   cp        1025 non-null   int64  \n",
      " 3   trestbps  1025 non-null   int64  \n",
      " 4   chol      1025 non-null   int64  \n",
      " 5   fbs       1025 non-null   int64  \n",
      " 6   restecg   1025 non-null   int64  \n",
      " 7   thalach   1025 non-null   int64  \n",
      " 8   exang     1025 non-null   int64  \n",
      " 9   oldpeak   1025 non-null   float64\n",
      " 10  slope     1025 non-null   int64  \n",
      " 11  ca        1025 non-null   int64  \n",
      " 12  thal      1025 non-null   int64  \n",
      " 13  target    1025 non-null   int64  \n",
      "dtypes: float64(1), int64(13)\n",
      "memory usage: 112.2 KB\n"
     ]
    }
   ],
   "source": [
    "dataset.info()"
   ]
  },
  {
   "cell_type": "markdown",
   "id": "6ba6fa72",
   "metadata": {},
   "source": [
    "All the features have numerical values, then data is ok without any changes.\n",
    "\n",
    "### Separate target feaure:"
   ]
  },
  {
   "cell_type": "code",
   "execution_count": 21,
   "id": "e8c270dd",
   "metadata": {},
   "outputs": [],
   "source": [
    "Y = dataset.iloc[:, -1].values\n",
    "X = dataset.iloc[:,0:-1].values"
   ]
  },
  {
   "cell_type": "markdown",
   "id": "be9d87a9",
   "metadata": {},
   "source": [
    "### Change class labels to 1 and -1:"
   ]
  },
  {
   "cell_type": "code",
   "execution_count": 22,
   "id": "0f097243",
   "metadata": {
    "scrolled": true
   },
   "outputs": [],
   "source": [
    "Y[Y == 0] = -1"
   ]
  },
  {
   "cell_type": "markdown",
   "id": "efc1a204",
   "metadata": {},
   "source": [
    "### do train test split:"
   ]
  },
  {
   "cell_type": "code",
   "execution_count": 23,
   "id": "3d4dc31b",
   "metadata": {},
   "outputs": [],
   "source": [
    "from sklearn.model_selection import train_test_split\n",
    "x_train, x_test, y_train, y_test = train_test_split(X, Y, test_size = 0.33, random_state = 42)"
   ]
  },
  {
   "cell_type": "markdown",
   "id": "695a1fc7",
   "metadata": {},
   "source": [
    "### Adaboost Algorithm Implementation (40 points)"
   ]
  },
  {
   "cell_type": "code",
   "execution_count": 24,
   "id": "95f76156",
   "metadata": {},
   "outputs": [],
   "source": [
    "from sklearn.tree import DecisionTreeClassifier\n",
    "\n",
    "def calculate_error(y, y_pred, w):\n",
    "    #TODO : Calculate the weighted error of a weak classifier.\n",
    "    A = y - y_pred\n",
    "    A[A != 0] = 1\n",
    "    return sum(w * A) / sum(w)\n",
    "\n",
    "def calculate_alpha(error):\n",
    "    #TODO : Calculate the weight of a weak classifier.\n",
    "    return np.log((1-error)/error)\n",
    "\n",
    "def update_weights(w, alpha, y, y_pred):\n",
    "    #TODO : Update weights after a boosting iteration.\n",
    "    A = y - y_pred\n",
    "    A[A != 0] = 1\n",
    "    return w * np.exp(alpha * A)\n",
    "\n",
    "    \n",
    "class AdaBoost:\n",
    "    \n",
    "    def __init__(self):\n",
    "        self.alphas = []\n",
    "        self.G_M = []\n",
    "        self.training_errors = []\n",
    "\n",
    "    def fit(self, X, y, M = 200):\n",
    "        \n",
    "        self.alphas = [] \n",
    "        self.training_errors = []\n",
    "        self.y_preds = []\n",
    "        self.M = M\n",
    "        \n",
    "\n",
    "        for m in range(0, M):\n",
    "            \n",
    "            # Set weights\n",
    "            if m == 0:\n",
    "                w = np.ones(len(y)) / len(y) \n",
    "            else:\n",
    "                w = update_weights(w, alpha, y, y_pred)\n",
    "               \n",
    "            \n",
    "            # 1. Fit weak classifier and predict labels(using predict method) and Save it to list of weak classifiers.\n",
    "            weak_classifiere_m = DecisionTreeClassifier(max_depth = 1)\n",
    "            weak_classifiere_m.fit(X, y, sample_weight=w)\n",
    "            y_pred = weak_classifiere_m.predict(X)\n",
    "            self.y_preds.append(y_pred)\n",
    "            self.G_M.append(weak_classifiere_m)\n",
    "\n",
    "            # 2. Calculate error of this weak classifier and save it to list of trainingterrors\n",
    "            error_m = calculate_error(y, y_pred, w)\n",
    "            self.training_errors.append(error_m)\n",
    "\n",
    "\n",
    "            # 3. Calculate alpha of this weak classifier and save it to list of alphas.\n",
    "            alpha = calculate_alpha(error_m)\n",
    "            self.alphas.append(alpha)\n",
    "\n",
    "\n",
    "\n",
    "    def predict(self, X):\n",
    "\n",
    "        weak_preds = pd.DataFrame(index = range(len(X)), columns = range(self.M)) \n",
    "\n",
    "        for m in range(self.M):\n",
    "            y_pred_m = self.G_M[m].predict(X) * self.alphas[m]\n",
    "            weak_preds.iloc[:,m] = y_pred_m\n",
    "\n",
    "        y_pred = (1 * np.sign(weak_preds.T.sum())).astype(int)\n",
    "\n",
    "        return y_pred"
   ]
  },
  {
   "cell_type": "markdown",
   "id": "f27f8987",
   "metadata": {},
   "source": [
    "### Training and Evaluation (20 points)"
   ]
  },
  {
   "cell_type": "code",
   "execution_count": 25,
   "id": "2986c7a1",
   "metadata": {},
   "outputs": [
    {
     "name": "stdout",
     "output_type": "stream",
     "text": [
      "accurcy :  0.8790560471976401 \n",
      "precission :  0.8848484848484849 \n",
      "recall :  0.8690476190476191 \n",
      "f_score :  0.8768768768768769\n"
     ]
    }
   ],
   "source": [
    "from sklearn.metrics import accuracy_score\n",
    "from sklearn.metrics import precision_score\n",
    "from sklearn.metrics import recall_score\n",
    "from sklearn.metrics import f1_score\n",
    "\n",
    "\n",
    "\n",
    "#TODO : Fit model\n",
    "adaBoost = AdaBoost()\n",
    "adaBoost.fit(x_train, y_train, M=200)\n",
    "\n",
    "#TODO : Predict on test data\n",
    "y_test_pred = adaBoost.predict(x_test)\n",
    "\n",
    "\n",
    "#TODO : Print evaluation metrics (Accurcy, Precission, Recall and f-score)\n",
    "def evaluation_metrics(y_test, y_test_pred):\n",
    "    accurcy = accuracy_score(y_test, y_test_pred)\n",
    "    precission = precision_score(y_test, y_test_pred)\n",
    "    recall = recall_score(y_test, y_test_pred)\n",
    "    f_score = f1_score(y_test, y_test_pred)\n",
    "    print(\"accurcy : \", accurcy, \"\\nprecission : \", precission, \"\\nrecall : \", recall, \"\\nf_score : \", f_score)\n",
    "\n",
    "evaluation_metrics(y_test, y_test_pred)\n",
    "    \n"
   ]
  },
  {
   "cell_type": "code",
   "execution_count": 26,
   "id": "39bb9216",
   "metadata": {},
   "outputs": [
    {
     "name": "stdout",
     "output_type": "stream",
     "text": [
      "accurcy :  0.8967551622418879 \n",
      "precission :  0.9235668789808917 \n",
      "recall :  0.8630952380952381 \n",
      "f_score :  0.8923076923076922\n"
     ]
    }
   ],
   "source": [
    "from sklearn.ensemble import AdaBoostClassifier\n",
    "\n",
    "#TODO : Do Scikit-Learn implementation of AdaBoost and print evaluation metrics\n",
    "scikit_adaboost_clf = AdaBoostClassifier(n_estimators=200, random_state=0)\n",
    "scikit_adaboost_clf.fit(x_train, y_train)\n",
    "y_pred = scikit_adaboost_clf.predict(x_test)\n",
    "\n",
    "evaluation_metrics(y_test, y_pred)"
   ]
  },
  {
   "cell_type": "markdown",
   "id": "92812d39",
   "metadata": {},
   "source": [
    "results are slightly same, sklearn resaults are a bit better."
   ]
  },
  {
   "cell_type": "markdown",
   "id": "e8fdcb6d",
   "metadata": {},
   "source": [
    "### Early Stopping (15 points)"
   ]
  },
  {
   "cell_type": "markdown",
   "id": "284399f1",
   "metadata": {},
   "source": [
    "#### calculate validation error for different number of estimators"
   ]
  },
  {
   "cell_type": "code",
   "execution_count": 49,
   "id": "ac86c294",
   "metadata": {
    "scrolled": true
   },
   "outputs": [
    {
     "name": "stdout",
     "output_type": "stream",
     "text": [
      "n =  100  >  0.8731563421828908\n",
      "n =  200  >  0.8967551622418879\n",
      "n =  300  >  0.9262536873156342\n",
      "n =  400  >  0.9410029498525073\n",
      "n =  500  >  0.9469026548672567\n",
      "n =  600  >  0.9557522123893806\n",
      "n =  700  >  0.9557522123893806\n",
      "n =  800  >  0.9557522123893806\n",
      "n =  900  >  0.9557522123893806\n",
      "n =  1000  >  0.9646017699115044\n",
      "n =  1500  >  0.9646017699115044\n",
      "n =  3000  >  0.9734513274336283\n"
     ]
    },
    {
     "data": {
      "text/plain": [
       "0.9734513274336283"
      ]
     },
     "execution_count": 49,
     "metadata": {},
     "output_type": "execute_result"
    }
   ],
   "source": [
    "#TODO : Calculate validation error for different number of estimators \n",
    "def validation_error_scikitlearn(n):\n",
    "    adaboost_clf = AdaBoostClassifier(n_estimators=n, random_state=0)\n",
    "    adaboost_clf.fit(x_train, y_train)\n",
    "    y_pred = adaboost_clf.predict(x_test)\n",
    "    err = accuracy_score(y_test, y_pred)\n",
    "    print(\"n = \", n, \" > \", err)\n",
    "    return err\n",
    "\n",
    "def validation_error_adaboost(n):\n",
    "    adaboost_clf = AdaBoost()\n",
    "    adaboost_clf.fit(x_train, y_train, M=n)\n",
    "    y_pred = adaboost_clf.predict(x_test)\n",
    "    err = accuracy_score(y_test, y_pred)\n",
    "    print(\"n = \", n, \" > \", err)\n",
    "    return err\n",
    "    \n",
    "validation_error_scikitlearn(100)\n",
    "validation_error_scikitlearn(200)\n",
    "validation_error_scikitlearn(300)\n",
    "validation_error_scikitlearn(400)\n",
    "validation_error_scikitlearn(500)\n",
    "validation_error_scikitlearn(600)\n",
    "validation_error_scikitlearn(700)\n",
    "validation_error_scikitlearn(800)\n",
    "validation_error_scikitlearn(900)\n",
    "validation_error_scikitlearn(1000)\n",
    "validation_error_scikitlearn(1500)\n",
    "validation_error_scikitlearn(3000)"
   ]
  },
  {
   "cell_type": "markdown",
   "id": "f152da68",
   "metadata": {},
   "source": [
    "#### Plot validation error versus number of estimators figure for sklearn model"
   ]
  },
  {
   "cell_type": "code",
   "execution_count": 50,
   "id": "d6e06fea",
   "metadata": {},
   "outputs": [
    {
     "data": {
      "image/png": "[encoded data removed]",
      "text/plain": [
       "<Figure size 432x288 with 1 Axes>"
      ]
     },
     "metadata": {
      "needs_background": "light"
     },
     "output_type": "display_data"
    }
   ],
   "source": [
    "from sklearn.model_selection import validation_curve\n",
    "\n",
    "#TODO : Plot validation error versus number of estimators figure.\n",
    "train_score, test_score = validation_curve(AdaBoostClassifier(), X, Y,\n",
    "                                       param_name = \"n_estimators\",\n",
    "                                       param_range = np.arange(100, 2000, 100),\n",
    "                                       cv = 5,\n",
    "                                       scoring = \"accuracy\")\n",
    "\n",
    "train_mean = np.mean(train_score, axis=1)\n",
    "train_std = np.std(train_score, axis=1)\n",
    "test_mean = np.mean(test_score, axis = 1)\n",
    "test_std = np.std(test_score, axis = 1)\n",
    "\n",
    "plt.plot(np.arange(100, 2000, 100), test_mean , color = 'g')\n",
    "\n",
    "plt.title(\"Validation Curve\")\n",
    "plt.xlabel(\"num of estimators\")\n",
    "plt.ylabel(\"accuracy\")\n",
    "\n",
    "plt.show()"
   ]
  },
  {
   "cell_type": "markdown",
   "id": "9abce84f",
   "metadata": {},
   "source": [
    "#### Plot validation error versus number of estimators figure for our AdaBoost model"
   ]
  },
  {
   "cell_type": "code",
   "execution_count": 51,
   "id": "7cf1096e",
   "metadata": {
    "scrolled": false
   },
   "outputs": [
    {
     "name": "stdout",
     "output_type": "stream",
     "text": [
      "n =  100  >  0.8466076696165191\n",
      "n =  200  >  0.8790560471976401\n",
      "n =  300  >  0.8938053097345132\n",
      "n =  400  >  0.9056047197640118\n",
      "n =  500  >  0.8967551622418879\n",
      "n =  600  >  0.8967551622418879\n",
      "n =  700  >  0.9026548672566371\n",
      "n =  800  >  0.8997050147492626\n",
      "n =  900  >  0.9085545722713865\n",
      "n =  1000  >  0.8997050147492626\n",
      "n =  1100  >  0.8997050147492626\n",
      "n =  1200  >  0.8997050147492626\n",
      "n =  1300  >  0.9056047197640118\n",
      "n =  1400  >  0.9056047197640118\n",
      "n =  1500  >  0.9203539823008849\n",
      "n =  1600  >  0.9203539823008849\n",
      "n =  1700  >  0.9292035398230089\n",
      "n =  1800  >  0.9351032448377581\n",
      "n =  1900  >  0.9351032448377581\n",
      "n =  2000  >  0.9351032448377581\n"
     ]
    },
    {
     "data": {
      "image/png": "[encoded data removed]",
      "text/plain": [
       "<Figure size 432x288 with 1 Axes>"
      ]
     },
     "metadata": {
      "needs_background": "light"
     },
     "output_type": "display_data"
    }
   ],
   "source": [
    "scores = np.zeros(20)\n",
    "j = 0\n",
    "for i in range(100, 2100, 100):\n",
    "    scores[j] = validation_error_adaboost(i)\n",
    "    j += 1\n",
    "    \n",
    "\n",
    "plt.plot(np.arange(100, 2100, 100), 1 - scores, label = \"Cross Validation Error\", color = 'g')\n",
    "plt.title(\"Validation Curve\")\n",
    "plt.xlabel(\"num of estimators\")\n",
    "plt.ylabel(\"error\")\n",
    "plt.show()    \n",
    "    "
   ]
  },
  {
   "cell_type": "markdown",
   "id": "23e5f192",
   "metadata": {},
   "source": [
    "##### for scikit model :"
   ]
  },
  {
   "cell_type": "code",
   "execution_count": 52,
   "id": "cdfac096",
   "metadata": {},
   "outputs": [
    {
     "name": "stdout",
     "output_type": "stream",
     "text": [
      "1100\n",
      "0.012682926829268304\n"
     ]
    }
   ],
   "source": [
    "#TODO : Print the best number for estimators and minimum value for validation error.\n",
    "print(np.arange(100, 2100, 100)[np.argmin(100 - test_mean)])\n",
    "print(np.min(1 - test_mean))"
   ]
  },
  {
   "cell_type": "markdown",
   "id": "694d8ecf",
   "metadata": {},
   "source": [
    "##### for adaboost that we had impelemented we have"
   ]
  },
  {
   "cell_type": "code",
   "execution_count": 53,
   "id": "44af5f17",
   "metadata": {},
   "outputs": [
    {
     "name": "stdout",
     "output_type": "stream",
     "text": [
      "1800\n",
      "0.06489675516224191\n"
     ]
    }
   ],
   "source": [
    "#TODO : Print the best number for estimators and minimum value for validation error.\n",
    "print(np.arange(100, 2100, 100)[np.argmin(100 - scores)])\n",
    "print(np.min(1 - scores))"
   ]
  },
  {
   "cell_type": "markdown",
   "id": "ec46a972",
   "metadata": {},
   "source": [
    "### Weighted Error (10 points)"
   ]
  },
  {
   "cell_type": "code",
   "execution_count": 57,
   "id": "7471664f",
   "metadata": {},
   "outputs": [
    {
     "data": {
      "image/png": "[encoded data removed]",
      "text/plain": [
       "<Figure size 432x288 with 1 Axes>"
      ]
     },
     "metadata": {
      "needs_background": "light"
     },
     "output_type": "display_data"
    }
   ],
   "source": [
    "#TODO : Plot weighted training error versus number of estimators figure using training_errors attribute in Adaboost class.\n",
    "train_errors = np.ones(20)\n",
    "adaboost = AdaBoost()\n",
    "j = 0\n",
    "for i in range(100, 2100, 100):\n",
    "    w = adaboost.fit(x_train, y_train, M=i)\n",
    "    y_pred = adaboost.predict(x_test)\n",
    "    train_errors[j] =np.sum(np.asarray(adaboost.training_errors) * np.asarray(adaboost.alphas))\n",
    "    j+=1\n",
    "    \n",
    "plt.plot(np.arange(100, 2100, 100), 1 - scores, label = \"Cross Validation Error\", color = 'g')\n",
    "plt.title(\"weighted training erro\n",
    "          \n",
    "          r\")\n",
    "plt.xlabel(\"num of estimators\")\n",
    "plt.ylabel(\"error\")\n",
    "plt.show()    \n",
    "        \n",
    "\n"
   ]
  },
  {
   "cell_type": "markdown",
   "id": "22f513e8",
   "metadata": {},
   "source": [
    "### Question : Why does the weighted error tend to increase as the number of estimators increase? (5points)"
   ]
  },
  {
   "cell_type": "markdown",
   "id": "8d8366de",
   "metadata": {},
   "source": [
    "as thr number of estimatores increases, the sum over the values will increas too, but when getting avarage this wont happend."
   ]
  }
 ],
 "metadata": {
  "kernelspec": {
   "display_name": "Python 3 (ipykernel)",
   "language": "python",
   "name": "python3"
  },
  "language_info": {
   "codemirror_mode": {
    "name": "ipython",
    "version": 3
   },
   "file_extension": ".py",
   "mimetype": "text/x-python",
   "name": "python",
   "nbconvert_exporter": "python",
   "pygments_lexer": "ipython3",
   "version": "3.9.12"
  }
 },
 "nbformat": 4,
 "nbformat_minor": 5
}