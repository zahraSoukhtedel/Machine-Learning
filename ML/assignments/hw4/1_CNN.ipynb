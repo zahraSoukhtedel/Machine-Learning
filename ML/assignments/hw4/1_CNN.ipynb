{
  "cells": [
    {
      "cell_type": "markdown",
      "metadata": {
        "id": "BxvIJ1tvV9uV"
      },
      "source": [
        "<img src='http://www-scf.usc.edu/~ghasemig/images/sharif.png' alt=\"SUT logo\" width=200 height=200 align=left class=\"saturate\" >\n",
        "\n",
        "<br>\n",
        "<font face=\"Times New Roman\">\n",
        "<div dir=ltr align=center>\n",
        "<font color=0F5298 size=7>\n",
        "    Introduction to Machine Learning <br>\n",
        "<font color=2565AE size=5>\n",
        "    Computer Engineering Department <br>\n",
        "    Fall 2022<br>\n",
        "<font color=3C99D size=5>\n",
        "    Homework 4: Practical - Convolutional Neural Networks <br>\n",
        "<font color=696880 size=4>\n",
        "    Arian Amani\n",
        "    \n",
        "    \n",
        "____\n"
      ]
    },
    {
      "cell_type": "markdown",
      "metadata": {
        "id": "qeR--Zt5V9uZ"
      },
      "source": [
        "### Full Name : Zahra Soukhtedel\n",
        "### Student Number : 98105138\n",
        "___"
      ]
    },
    {
      "cell_type": "markdown",
      "metadata": {
        "id": "kpzlA0NjV9ua"
      },
      "source": [
        "# Problem\n",
        "This assignment uses PyTorch to build and implement a residual CNN for solving a classification problem. Our goal is to classify handwritten digits from 0 to 9 on the MNIST dataset. You can try larger and more fun datasets if you have access to Google Colab. (for example: [facial emotion detection](https://www.kaggle.com/datasets/msambare/fer2013))\n",
        "\n",
        "* It is highly recommended to run this notebook on Google Colab so that you can utilize its GPU.\n",
        "* If you need to change the inputs of functions you are implementing, or want to add new cells or functions, feel free to do so."
      ]
    },
    {
      "cell_type": "markdown",
      "metadata": {
        "id": "W0bGV8AXO3Yx"
      },
      "source": [
        "# Setup"
      ]
    },
    {
      "cell_type": "code",
      "execution_count": 91,
      "metadata": {
        "id": "CdrZr6HWO2p8"
      },
      "outputs": [],
      "source": [
        "import torch\n",
        "from torch import nn\n",
        "from torch.nn import functional as F\n",
        "from torch.utils.data import Dataset, DataLoader, random_split\n",
        "from torchvision import transforms, datasets\n",
        "\n",
        "from tqdm import tqdm\n",
        "import numpy as np\n",
        "import pandas as pd\n",
        "import matplotlib.pyplot as plt\n",
        "\n",
        "plt.style.use('ggplot')\n",
        "###########################################################\n",
        "##  If you need any other packages, import them below    ##\n",
        "###########################################################\n"
      ]
    },
    {
      "cell_type": "code",
      "execution_count": 92,
      "metadata": {
        "colab": {
          "base_uri": "https://localhost:8080/"
        },
        "id": "I8QrMrBiV9uc",
        "outputId": "7bd4c0d5-ba7a-46c7-95e0-bf5c5106fc25"
      },
      "outputs": [
        {
          "output_type": "execute_result",
          "data": {
            "text/plain": [
              "device(type='cuda')"
            ]
          },
          "metadata": {},
          "execution_count": 92
        }
      ],
      "source": [
        "device = torch.device('cuda' if torch.cuda.is_available() else 'cpu')\n",
        "device"
      ]
    },
    {
      "cell_type": "markdown",
      "metadata": {
        "id": "gzydGC2SNuAu"
      },
      "source": [
        "# Prepare The Data (10 Points)"
      ]
    },
    {
      "cell_type": "markdown",
      "metadata": {
        "id": "D-dbNGIgV9ud"
      },
      "source": [
        "Write a composed transformation to transform our dataset's PIL images to tensors and normalize them with ```mean: 0.1307``` and ```std: 0.3081```: "
      ]
    },
    {
      "cell_type": "markdown",
      "metadata": {
        "id": "VjhDZHl-V9ue"
      },
      "source": [
        "<details>\n",
        "<summary>Hint</summary>\n",
        "<br>\n",
        "<a href=\"https://pytorch.org/vision/stable/generated/torchvision.transforms.Compose.html\">torchvision.transforms.Compose</a>\n",
        "</details>"
      ]
    },
    {
      "cell_type": "code",
      "execution_count": 93,
      "metadata": {
        "id": "s1R0xKkJV9ue"
      },
      "outputs": [],
      "source": [
        "from torchvision.transforms.transforms import ToTensor\n",
        "\n",
        "transformation = transforms.Compose([transforms.ToTensor(), \n",
        "                                    transforms.Normalize((0.1307,), (0.3081,))])"
      ]
    },
    {
      "cell_type": "markdown",
      "metadata": {
        "id": "ANdYnd04N0ze"
      },
      "source": [
        "Split the downloaded MNIST dataset into two dataloaders ```train``` & ```val```"
      ]
    },
    {
      "cell_type": "code",
      "execution_count": 94,
      "metadata": {
        "colab": {
          "base_uri": "https://localhost:8080/"
        },
        "id": "qMDQHk9HV9uf",
        "outputId": "1a3201da-32ff-443c-9fcb-9c96be8b3ee0"
      },
      "outputs": [
        {
          "output_type": "stream",
          "name": "stdout",
          "text": [
            "60000\n"
          ]
        }
      ],
      "source": [
        "# Download the MNIST dataset\n",
        "mnist_data = datasets.MNIST(root='data/', download=True, transform=transformation)\n",
        "\n",
        "# Number of images in the dataset: 60,000\n",
        "print(len(mnist_data))\n",
        "\n",
        "# Split the dataset into training and validation sets\n",
        "train_data, valid_data = random_split(mnist_data, [50000, 10000]) "
      ]
    },
    {
      "cell_type": "markdown",
      "metadata": {
        "id": "WikUcm_jV9uf"
      },
      "source": [
        "Create dataloaders for your train and validation data with ```batch size 16``` and ```shuffle = True``` for train loader."
      ]
    },
    {
      "cell_type": "markdown",
      "metadata": {
        "id": "c_TwtjgKV9uf"
      },
      "source": [
        "<details>\n",
        "<summary>Hint</summary>\n",
        "<br>\n",
        "<a href=\"https://pytorch.org/tutorials/beginner/basics/data_tutorial.html\">DATASETS & DATALOADERS</a>\n",
        "</details>"
      ]
    },
    {
      "cell_type": "code",
      "execution_count": 95,
      "metadata": {
        "id": "4CEUTGaFQI51"
      },
      "outputs": [],
      "source": [
        "from torch.utils.data import DataLoader\n",
        "\n",
        "train_loader = DataLoader(train_data, batch_size=16, shuffle=True)\n",
        "val_loader = DataLoader(valid_data, batch_size=16, shuffle=False)"
      ]
    },
    {
      "cell_type": "markdown",
      "metadata": {
        "id": "HF_40_3rQ5Uv"
      },
      "source": [
        "# Define Model (40 Points)"
      ]
    },
    {
      "cell_type": "markdown",
      "metadata": {
        "id": "75gTWg8MV9ug"
      },
      "source": [
        "### You need to implement a model with the architecture below:\n",
        "[Input: (BS, 1, 28, 28)] -- > [Conv2D (BS, 16, 28, 28)] --> ReLU --> [MaxPool2D (BS, 16, 14, 14): Residual1]\n",
        "\n",
        "--> [Conv2D (BS, 16, 14, 14)] --> ReLU --> [Conv2D (BS, 16, 14, 14)] --> ReLU --> [Addition with Residual1]\n",
        "\n",
        "--> [MaxPool2D (BS, 16, 7, 7)] --> [Conv2D (BS, 64, 7, 7)] --> [ReLU: Residual2]\n",
        "\n",
        "--> [Conv2D (BS, 64, 7, 7)] --> ReLU --> [Conv2D (BS, 64, 7, 7)] --> ReLU --> [Addition with Residual2]\n",
        "\n",
        "--> [GlobalAveragePooling (BS, 64, 1, 1)] --> [Flatten (BS, 64)] --> [Linear (BS, 10)] --> ReLU --> OUT\n",
        "\n",
        "Here you can see the drawn schematic of the architecture, too: [Link](https://drive.google.com/file/d/1gQzafyxTkuvQr8T-xUncLmedX94LnY_l/view?usp=share_link)"
      ]
    },
    {
      "cell_type": "markdown",
      "metadata": {
        "id": "es2vD8RTV9ug"
      },
      "source": [
        "<details>\n",
        "<summary>Hint</summary>\n",
        "<br>\n",
        "These might be helpful:\n",
        "<br>\n",
        "<a href=\"https://pytorch.org/docs/stable/generated/torch.clone.html\">TORCH.CLONE</a>\n",
        "<br><br>\n",
        "<a href=\"https://pytorch.org/docs/master/generated/torch.nn.AdaptiveAvgPool2d.html#torch.nn.AdaptiveAvgPool2d\">AdaptiveAvgPool2d</a> with output size (1, 1) for global average pooling\n",
        "<br><br>\n",
        "<a href=\"https://arxiv.org/pdf/1512.03385.pdf\">Deep Residual Learning for Image Recognition</a>\n",
        "</details>"
      ]
    },
    {
      "cell_type": "code",
      "execution_count": 96,
      "metadata": {
        "id": "jQfGVj2rQ90G"
      },
      "outputs": [],
      "source": [
        "#####################################\n",
        "##        Define your model        ##\n",
        "##            Your Code            ##\n",
        "#####################################\n",
        "class ResidualClassifier(nn.Module):\n",
        "    def __init__(self):\n",
        "        super(ResidualClassifier, self).__init__()\n",
        "        self.layer1 = nn.Sequential(\n",
        "            nn.Conv2d(1, 16, 3, 1, 1),                          \n",
        "            nn.ReLU(),                      \n",
        "            nn.MaxPool2d(kernel_size=2, stride=2),    \n",
        "        )\n",
        "        self.layer2 = nn.Sequential(         \n",
        "            nn.Conv2d(16, 16, 3, 1, 1),     \n",
        "            nn.ReLU(),                 \n",
        "            nn.Conv2d(16, 16, 3, 1, 1),     \n",
        "            nn.ReLU()              \n",
        "        )\n",
        "        self.layer3 = nn.Sequential(        \n",
        "            nn.MaxPool2d(kernel_size=2, stride=2),     \n",
        "            nn.Conv2d(16, 64, 3, 1, 1),     \n",
        "            nn.ReLU()\n",
        "        )\n",
        "        self.layer4 = nn.Sequential(         \n",
        "            nn.Conv2d(64, 64, 3, 1, 1),     \n",
        "            nn.ReLU(),                 \n",
        "            nn.Conv2d(64, 64, 3, 1, 1),     \n",
        "            nn.ReLU()              \n",
        "        )\n",
        "        self.out_layer = nn.Sequential(\n",
        "            nn.AdaptiveAvgPool2d((1,1)),\n",
        "            nn.Flatten(), \n",
        "            nn.Linear(64, 10)\n",
        "        )\n",
        "    def forward(self, x):\n",
        "        output_layer1 = self.layer1(x)\n",
        "        output_layer2 = self.layer2(output_layer1) + output_layer1\n",
        "        output_layer3 = self.layer3(output_layer2)\n",
        "        output_layer4 = self.layer4(output_layer3) + output_layer3\n",
        "        out = self.out_layer(output_layer4)\n",
        "        return out"
      ]
    },
    {
      "cell_type": "markdown",
      "metadata": {
        "id": "1jZeKXV9Rbq3"
      },
      "source": [
        "# Train Model (30 Points)"
      ]
    },
    {
      "cell_type": "code",
      "execution_count": 98,
      "metadata": {
        "id": "koMk0TkKRazn"
      },
      "outputs": [],
      "source": [
        "from torch.optim import SGD as SGD\n",
        "\n",
        "model = ResidualClassifier().to(device)\n",
        "criterion = nn.CrossEntropyLoss()\n",
        "optimizer = SGD(model.parameters(), lr=0.0005, momentum = 0.95)  \n"
      ]
    },
    {
      "cell_type": "code",
      "execution_count": 99,
      "metadata": {
        "colab": {
          "base_uri": "https://localhost:8080/"
        },
        "id": "UJ_7al-PV9ui",
        "outputId": "2ed15414-12a8-4977-acf4-b2f214f46b66"
      },
      "outputs": [
        {
          "output_type": "stream",
          "name": "stdout",
          "text": [
            "Epoch [1], training loss: 0.3891\n",
            "Validation accuracy : 89.6200%, validation loss : 33.7715 %\n",
            "Epoch [2], training loss: 0.3741\n",
            "Validation accuracy : 94.1400%, validation loss : 18.4739 %\n",
            "Epoch [3], training loss: 0.0449\n",
            "Validation accuracy : 96.4100%, validation loss : 12.3963 %\n",
            "Epoch [4], training loss: 0.1020\n",
            "Validation accuracy : 96.4000%, validation loss : 11.6481 %\n",
            "Epoch [5], training loss: 0.0072\n",
            "Validation accuracy : 96.9300%, validation loss : 9.5750 %\n",
            "Epoch [6], training loss: 0.0448\n",
            "Validation accuracy : 97.3000%, validation loss : 8.4425 %\n",
            "Epoch [7], training loss: 0.0193\n",
            "Validation accuracy : 97.7600%, validation loss : 7.2688 %\n",
            "Epoch [8], training loss: 0.3879\n",
            "Validation accuracy : 97.4300%, validation loss : 8.1693 %\n",
            "Epoch [9], training loss: 0.0145\n",
            "Validation accuracy : 97.6500%, validation loss : 7.8536 %\n",
            "Epoch [10], training loss: 0.0845\n",
            "Validation accuracy : 97.9400%, validation loss : 6.5108 %\n",
            "Epoch [11], training loss: 0.0040\n",
            "Validation accuracy : 98.3800%, validation loss : 5.1166 %\n",
            "Epoch [12], training loss: 0.0209\n",
            "Validation accuracy : 98.2300%, validation loss : 5.5684 %\n",
            "Epoch [13], training loss: 0.0154\n",
            "Validation accuracy : 98.4300%, validation loss : 4.7962 %\n",
            "Epoch [14], training loss: 0.0140\n",
            "Validation accuracy : 98.1200%, validation loss : 6.4908 %\n",
            "Epoch [15], training loss: 0.0829\n",
            "Validation accuracy : 98.3700%, validation loss : 4.9381 %\n",
            "Epoch [16], training loss: 0.0863\n",
            "Validation accuracy : 98.1100%, validation loss : 5.9993 %\n",
            "Epoch [17], training loss: 0.0535\n",
            "Validation accuracy : 98.4800%, validation loss : 4.8365 %\n",
            "Epoch [18], training loss: 0.1239\n",
            "Validation accuracy : 98.6600%, validation loss : 4.5514 %\n",
            "Epoch [19], training loss: 0.0020\n",
            "Validation accuracy : 98.8600%, validation loss : 3.9326 %\n",
            "Epoch [20], training loss: 0.0170\n",
            "Validation accuracy : 98.9000%, validation loss : 3.4325 %\n"
          ]
        }
      ],
      "source": [
        "total_step = len(train_loader)\n",
        "num_epochs = 20\n",
        "valid_loss = []\n",
        "valid_accuracies = []\n",
        "\n",
        "for epoch in range(num_epochs):\n",
        "    running_loss = 0\n",
        "    model.train()\n",
        "    for images, labels in train_loader:  \n",
        "        optimizer.zero_grad()\n",
        "        loss = criterion(model.forward(images.to(device)), labels.to(device))\n",
        "        loss.backward()\n",
        "        optimizer.step()\n",
        "        running_loss += loss.item()\n",
        "    valid_loss.append(running_loss / total_step)\n",
        "  \n",
        "    print ('Epoch [{}], training loss: {:.4f}'.format(epoch+1, loss.item()))\n",
        "      \n",
        "    loss, accuracy = 0, 0\n",
        "    with torch.no_grad():\n",
        "        for images, labels in val_loader:\n",
        "            images, labels = images.to(device), labels.to(device)\n",
        "            out = model.forward(images)\n",
        "            \n",
        "            loss += criterion(out, labels).item()\n",
        "            eq = (labels == (torch.exp(out)).max(dim=1)[1])\n",
        "            \n",
        "            accuracy += eq.type(torch.FloatTensor).mean()\n",
        "            \n",
        "            del images, labels, out\n",
        "\n",
        "        print('Validation accuracy : {:.4f}%, validation loss : {:.4f} %'.format(100*accuracy/len(val_loader), 100*loss/len(val_loader))) \n",
        "        valid_loss.append(loss)\n",
        "        valid_accuracies.append(accuracy)    "
      ]
    },
    {
      "cell_type": "code",
      "execution_count": 100,
      "metadata": {
        "id": "_YSWvcEGSVor",
        "colab": {
          "base_uri": "https://localhost:8080/",
          "height": 265
        },
        "outputId": "2944df2e-6e39-4f8f-cbf2-d0e940af1e49"
      },
      "outputs": [
        {
          "output_type": "display_data",
          "data": {
            "text/plain": [
              "<Figure size 432x288 with 1 Axes>"
            ],
            "image/png": "[encoded data removed]"
          },
          "metadata": {}
        }
      ],
      "source": [
        "import matplotlib.pyplot as plt\n",
        "\n",
        "plt.plot(valid_loss, label='loss')\n",
        "plt.legend()\n",
        "plt.show()"
      ]
    },
    {
      "cell_type": "code",
      "source": [],
      "metadata": {
        "id": "m39hsb9zCUAq"
      },
      "execution_count": null,
      "outputs": []
    },
    {
      "cell_type": "code",
      "source": [
        "plt.plot(valid_accuracies, label='accuracy')\n",
        "plt.legend()\n",
        "plt.show()"
      ],
      "metadata": {
        "colab": {
          "base_uri": "https://localhost:8080/",
          "height": 266
        },
        "id": "u4W-sbH7tF5K",
        "outputId": "a4eddd37-f5f5-4131-bcc4-690bcf7e072e"
      },
      "execution_count": 101,
      "outputs": [
        {
          "output_type": "display_data",
          "data": {
            "text/plain": [
              "<Figure size 432x288 with 1 Axes>"
            ],
            "image/png": "[encoded data removed]"
          },
          "metadata": {}
        }
      ]
    },
    {
      "cell_type": "markdown",
      "metadata": {
        "id": "LzhCrIFkSE1D"
      },
      "source": [
        "# Test Model (20 Points)"
      ]
    },
    {
      "cell_type": "code",
      "execution_count": 102,
      "metadata": {
        "id": "ihixveNISFwE",
        "colab": {
          "base_uri": "https://localhost:8080/"
        },
        "outputId": "3ac5c0a6-adf2-46b0-a9ac-d6490764af8a"
      },
      "outputs": [
        {
          "output_type": "stream",
          "name": "stdout",
          "text": [
            "10000\n"
          ]
        }
      ],
      "source": [
        "##################################################\n",
        "##          Test your model on test-set         ##\n",
        "##          and plot confusion matrix           ##\n",
        "##################################################\n",
        "\n",
        "test_data = datasets.MNIST(root='data/', download=True, transform=transformation, train=False)\n",
        "test_loader = DataLoader(test_data, batch_size=64, shuffle=False)\n",
        "print(len(test_data))\n",
        "\n",
        "\n",
        "real = []\n",
        "pred = []\n",
        "with torch.no_grad():\n",
        "    correct = 0\n",
        "    total = 0\n",
        "    for images, labels in test_loader:\n",
        "        images,labels = images.to(device), labels.to(device)\n",
        "\n",
        "        outputs = model(images)\n",
        "        predicted = (torch.max(outputs.data, 1)[1]).cpu().numpy()\n",
        "\n",
        "        correct += sum(predicted == labels.cpu().numpy()).item()\n",
        "        total += labels.size(0)\n",
        "        real.extend(labels.cpu().numpy())\n",
        "        pred.extend(predicted)\n",
        "\n",
        "        del images, labels, outputs"
      ]
    },
    {
      "cell_type": "code",
      "source": [
        "#confusion matrix \n",
        "from sklearn.metrics import confusion_matrix, ConfusionMatrixDisplay\n",
        "ConfusionMatrixDisplay(confusion_matrix(real, pred)).plot()"
      ],
      "metadata": {
        "colab": {
          "base_uri": "https://localhost:8080/",
          "height": 299
        },
        "id": "oyX_mJBEyM16",
        "outputId": "7dc2b17e-efd2-42eb-c499-d7756c256e9a"
      },
      "execution_count": 103,
      "outputs": [
        {
          "output_type": "execute_result",
          "data": {
            "text/plain": [
              "<sklearn.metrics._plot.confusion_matrix.ConfusionMatrixDisplay at 0x7f82787bfe20>"
            ]
          },
          "metadata": {},
          "execution_count": 103
        },
        {
          "output_type": "display_data",
          "data": {
            "text/plain": [
              "<Figure size 432x288 with 2 Axes>"
            ],
            "image/png": "[encoded data removed]"
          },
          "metadata": {}
        }
      ]
    }
  ],
  "metadata": {
    "colab": {
      "provenance": [],
      "toc_visible": true
    },
    "kernelspec": {
      "display_name": "Python 3 (ipykernel)",
      "language": "python",
      "name": "python3"
    },
    "language_info": {
      "codemirror_mode": {
        "name": "ipython",
        "version": 3
      },
      "file_extension": ".py",
      "mimetype": "text/x-python",
      "name": "python",
      "nbconvert_exporter": "python",
      "pygments_lexer": "ipython3",
      "version": "3.9.7"
    },
    "varInspector": {
      "cols": {
        "lenName": 16,
        "lenType": 16,
        "lenVar": 40
      },
      "kernels_config": {
        "python": {
          "delete_cmd_postfix": "",
          "delete_cmd_prefix": "del ",
          "library": "var_list.py",
          "varRefreshCmd": "print(var_dic_list())"
        },
        "r": {
          "delete_cmd_postfix": ") ",
          "delete_cmd_prefix": "rm(",
          "library": "var_list.r",
          "varRefreshCmd": "cat(var_dic_list()) "
        }
      },
      "types_to_exclude": [
        "module",
        "function",
        "builtin_function_or_method",
        "instance",
        "_Feature"
      ],
      "window_display": false
    },
    "vscode": {
      "interpreter": {
        "hash": "bb93c294e1388593f3ce88f4c5e050b65c17fc54b955fa171f33a4b9b3d10054"
      }
    },
    "accelerator": "GPU",
    "gpuClass": "standard"
  },
  "nbformat": 4,
  "nbformat_minor": 0
}