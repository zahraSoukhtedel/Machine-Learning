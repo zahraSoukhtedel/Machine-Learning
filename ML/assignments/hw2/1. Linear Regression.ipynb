{
 "cells": [
  {
   "cell_type": "markdown",
   "id": "16adc323",
   "metadata": {},
   "source": [
    "<br><font face=\"Times New Roman\" size=5><div dir=ltr align=center>\n",
    "<font color=blue size=8>\n",
    "    Introduction to Machine Learning <br>\n",
    "<font color=red size=5>\n",
    "    Sharif University of Technology - Computer Engineering Department <br>\n",
    "    Fall 2022<br> <br>\n",
    "<font color=black size=6>\n",
    "    Homework 2: Practical - Linear Regression\n",
    "    </div>\n",
    "<br><br>\n",
    "<font size=4>\n",
    "   **Name**: Zahra Soukhtedel<br>\n",
    "   **Student ID**: 98105138 <br> <br>"
   ]
  },
  {
   "cell_type": "markdown",
   "id": "2585264a",
   "metadata": {},
   "source": [
    "<font face=\"Times New Roman\" size=4><div dir=ltr>\n",
    "# Problem 1: Linear Regression Model (40 + 30 optional points)\n",
    "According to <a href=\"https://github.com/asharifiz/Introduction_to_Machine_Learning/blob/main/Jupyter_Notebooks/Chapter_02_Classical_Models/Linear%20regression.ipynb\"><font face=\"Roboto\">Linear Regression Notebook</font></a>, train a linear regression model on an arbitrary dataset. Explain your chosen dataset and split your data into train and test sets, then predict values for the test set using your trained model. Try to find the best hyperparameters for your model. (Using Lasso Regression, Ridge Regression or Elastic Net and comparing them will have extra optional points)\n",
    "<br> Explain each step of your workflow."
   ]
  },
  {
   "cell_type": "markdown",
   "id": "e908ff97",
   "metadata": {},
   "source": [
    "This dataset is a record of 7 common different fish species in fish market sales. With this dataset, a predictive model can be performed using machine friendly data and estimate the weight of fish can be predicted."
   ]
  },
  {
   "cell_type": "code",
   "execution_count": 105,
   "id": "387d3a07",
   "metadata": {},
   "outputs": [
    {
     "data": {
      "text/html": [
       "<div>\n",
       "<style scoped>\n",
       "    .dataframe tbody tr th:only-of-type {\n",
       "        vertical-align: middle;\n",
       "    }\n",
       "\n",
       "    .dataframe tbody tr th {\n",
       "        vertical-align: top;\n",
       "    }\n",
       "\n",
       "    .dataframe thead th {\n",
       "        text-align: right;\n",
       "    }\n",
       "</style>\n",
       "<table border=\"1\" class=\"dataframe\">\n",
       "  <thead>\n",
       "    <tr style=\"text-align: right;\">\n",
       "      <th></th>\n",
       "      <th>Species</th>\n",
       "      <th>Weight</th>\n",
       "      <th>Length1</th>\n",
       "      <th>Length2</th>\n",
       "      <th>Length3</th>\n",
       "      <th>Height</th>\n",
       "      <th>Width</th>\n",
       "    </tr>\n",
       "  </thead>\n",
       "  <tbody>\n",
       "    <tr>\n",
       "      <th>0</th>\n",
       "      <td>Bream</td>\n",
       "      <td>242.0</td>\n",
       "      <td>23.2</td>\n",
       "      <td>25.4</td>\n",
       "      <td>30.0</td>\n",
       "      <td>11.5200</td>\n",
       "      <td>4.0200</td>\n",
       "    </tr>\n",
       "    <tr>\n",
       "      <th>1</th>\n",
       "      <td>Bream</td>\n",
       "      <td>290.0</td>\n",
       "      <td>24.0</td>\n",
       "      <td>26.3</td>\n",
       "      <td>31.2</td>\n",
       "      <td>12.4800</td>\n",
       "      <td>4.3056</td>\n",
       "    </tr>\n",
       "    <tr>\n",
       "      <th>2</th>\n",
       "      <td>Bream</td>\n",
       "      <td>340.0</td>\n",
       "      <td>23.9</td>\n",
       "      <td>26.5</td>\n",
       "      <td>31.1</td>\n",
       "      <td>12.3778</td>\n",
       "      <td>4.6961</td>\n",
       "    </tr>\n",
       "    <tr>\n",
       "      <th>3</th>\n",
       "      <td>Bream</td>\n",
       "      <td>363.0</td>\n",
       "      <td>26.3</td>\n",
       "      <td>29.0</td>\n",
       "      <td>33.5</td>\n",
       "      <td>12.7300</td>\n",
       "      <td>4.4555</td>\n",
       "    </tr>\n",
       "    <tr>\n",
       "      <th>4</th>\n",
       "      <td>Bream</td>\n",
       "      <td>430.0</td>\n",
       "      <td>26.5</td>\n",
       "      <td>29.0</td>\n",
       "      <td>34.0</td>\n",
       "      <td>12.4440</td>\n",
       "      <td>5.1340</td>\n",
       "    </tr>\n",
       "    <tr>\n",
       "      <th>...</th>\n",
       "      <td>...</td>\n",
       "      <td>...</td>\n",
       "      <td>...</td>\n",
       "      <td>...</td>\n",
       "      <td>...</td>\n",
       "      <td>...</td>\n",
       "      <td>...</td>\n",
       "    </tr>\n",
       "    <tr>\n",
       "      <th>154</th>\n",
       "      <td>Smelt</td>\n",
       "      <td>12.2</td>\n",
       "      <td>11.5</td>\n",
       "      <td>12.2</td>\n",
       "      <td>13.4</td>\n",
       "      <td>2.0904</td>\n",
       "      <td>1.3936</td>\n",
       "    </tr>\n",
       "    <tr>\n",
       "      <th>155</th>\n",
       "      <td>Smelt</td>\n",
       "      <td>13.4</td>\n",
       "      <td>11.7</td>\n",
       "      <td>12.4</td>\n",
       "      <td>13.5</td>\n",
       "      <td>2.4300</td>\n",
       "      <td>1.2690</td>\n",
       "    </tr>\n",
       "    <tr>\n",
       "      <th>156</th>\n",
       "      <td>Smelt</td>\n",
       "      <td>12.2</td>\n",
       "      <td>12.1</td>\n",
       "      <td>13.0</td>\n",
       "      <td>13.8</td>\n",
       "      <td>2.2770</td>\n",
       "      <td>1.2558</td>\n",
       "    </tr>\n",
       "    <tr>\n",
       "      <th>157</th>\n",
       "      <td>Smelt</td>\n",
       "      <td>19.7</td>\n",
       "      <td>13.2</td>\n",
       "      <td>14.3</td>\n",
       "      <td>15.2</td>\n",
       "      <td>2.8728</td>\n",
       "      <td>2.0672</td>\n",
       "    </tr>\n",
       "    <tr>\n",
       "      <th>158</th>\n",
       "      <td>Smelt</td>\n",
       "      <td>19.9</td>\n",
       "      <td>13.8</td>\n",
       "      <td>15.0</td>\n",
       "      <td>16.2</td>\n",
       "      <td>2.9322</td>\n",
       "      <td>1.8792</td>\n",
       "    </tr>\n",
       "  </tbody>\n",
       "</table>\n",
       "<p>159 rows × 7 columns</p>\n",
       "</div>"
      ],
      "text/plain": [
       "    Species  Weight  Length1  Length2  Length3   Height   Width\n",
       "0     Bream   242.0     23.2     25.4     30.0  11.5200  4.0200\n",
       "1     Bream   290.0     24.0     26.3     31.2  12.4800  4.3056\n",
       "2     Bream   340.0     23.9     26.5     31.1  12.3778  4.6961\n",
       "3     Bream   363.0     26.3     29.0     33.5  12.7300  4.4555\n",
       "4     Bream   430.0     26.5     29.0     34.0  12.4440  5.1340\n",
       "..      ...     ...      ...      ...      ...      ...     ...\n",
       "154   Smelt    12.2     11.5     12.2     13.4   2.0904  1.3936\n",
       "155   Smelt    13.4     11.7     12.4     13.5   2.4300  1.2690\n",
       "156   Smelt    12.2     12.1     13.0     13.8   2.2770  1.2558\n",
       "157   Smelt    19.7     13.2     14.3     15.2   2.8728  2.0672\n",
       "158   Smelt    19.9     13.8     15.0     16.2   2.9322  1.8792\n",
       "\n",
       "[159 rows x 7 columns]"
      ]
     },
     "execution_count": 105,
     "metadata": {},
     "output_type": "execute_result"
    }
   ],
   "source": [
    "import numpy as np\n",
    "import matplotlib.pyplot as plt\n",
    "import pandas as pd\n",
    "from sklearn import linear_model\n",
    "from sklearn.metrics import mean_squared_error\n",
    "\n",
    "dataset=pd.read_csv(r\"./Fish.csv\")\n",
    "dataset\n"
   ]
  },
  {
   "cell_type": "code",
   "execution_count": 106,
   "id": "dbe4f7ae",
   "metadata": {},
   "outputs": [
    {
     "name": "stdout",
     "output_type": "stream",
     "text": [
      "<class 'pandas.core.frame.DataFrame'>\n",
      "RangeIndex: 159 entries, 0 to 158\n",
      "Data columns (total 7 columns):\n",
      " #   Column   Non-Null Count  Dtype  \n",
      "---  ------   --------------  -----  \n",
      " 0   Species  159 non-null    object \n",
      " 1   Weight   159 non-null    float64\n",
      " 2   Length1  159 non-null    float64\n",
      " 3   Length2  159 non-null    float64\n",
      " 4   Length3  159 non-null    float64\n",
      " 5   Height   159 non-null    float64\n",
      " 6   Width    159 non-null    float64\n",
      "dtypes: float64(6), object(1)\n",
      "memory usage: 8.8+ KB\n"
     ]
    }
   ],
   "source": [
    "dataset.info()"
   ]
  },
  {
   "cell_type": "markdown",
   "id": "6e991bd4",
   "metadata": {
    "direction": "ltr"
   },
   "source": [
    "slice dataset into two partitions, X (=input data) and Y(=output data):"
   ]
  },
  {
   "cell_type": "code",
   "execution_count": 107,
   "id": "6f932ffe",
   "metadata": {},
   "outputs": [],
   "source": [
    "Y = dataset.iloc[:, 1].values\n",
    "X = dataset.iloc[:,[2,3,4,5,6]].values"
   ]
  },
  {
   "cell_type": "markdown",
   "id": "1337d4ba",
   "metadata": {
    "direction": "ltr"
   },
   "source": [
    "split data in two partitions, test and train data : "
   ]
  },
  {
   "cell_type": "code",
   "execution_count": 108,
   "id": "33033ecf",
   "metadata": {},
   "outputs": [
    {
     "name": "stdout",
     "output_type": "stream",
     "text": [
      "train size :  (106, 5) \n",
      " test size :  (53, 5)\n"
     ]
    }
   ],
   "source": [
    "from sklearn.model_selection import train_test_split\n",
    "x_train, x_test, y_train, y_test = train_test_split(X, Y, test_size = 0.33)\n",
    "print(\"train size : \", x_train.shape,\"\\n\", \"test size : \", x_test.shape)"
   ]
  },
  {
   "cell_type": "markdown",
   "id": "73076a6e",
   "metadata": {
    "direction": "ltr"
   },
   "source": [
    "in linear regression we have:\n",
    "$$ Weigth = w_1 * Length_1 + w_2 * Length_2 + w_3 * Length_3 + w_4 * Height + w_5 * Width  + b$$\n",
    "$$Y = X * W + b$$"
   ]
  },
  {
   "cell_type": "markdown",
   "id": "7a6bbcdd",
   "metadata": {
    "direction": "ltr"
   },
   "source": [
    "defining a linear regression model from linear_model module.\n",
    "and then fit model on train data."
   ]
  },
  {
   "cell_type": "code",
   "execution_count": 109,
   "id": "af852505",
   "metadata": {},
   "outputs": [
    {
     "data": {
      "text/plain": [
       "LinearRegression()"
      ]
     },
     "execution_count": 109,
     "metadata": {},
     "output_type": "execute_result"
    }
   ],
   "source": [
    "regr = linear_model.LinearRegression()\n",
    "regr.fit(x_train, y_train)"
   ]
  },
  {
   "cell_type": "markdown",
   "id": "9bb42948",
   "metadata": {
    "direction": "ltr"
   },
   "source": [
    "learn model on training data:"
   ]
  },
  {
   "cell_type": "code",
   "execution_count": 110,
   "id": "72f2b213",
   "metadata": {},
   "outputs": [],
   "source": [
    "y_predictions = regr.predict(x_test)"
   ]
  },
  {
   "cell_type": "markdown",
   "id": "33d1aa96",
   "metadata": {
    "direction": "rtl"
   },
   "source": [
    "حال میزان خطای به دست آمده را محاسبه می کنیم:"
   ]
  },
  {
   "cell_type": "code",
   "execution_count": 111,
   "id": "68bf0281",
   "metadata": {
    "scrolled": true
   },
   "outputs": [
    {
     "data": {
      "text/plain": [
       "18163.75474831662"
      ]
     },
     "execution_count": 111,
     "metadata": {},
     "output_type": "execute_result"
    }
   ],
   "source": [
    "mean_squared_error(y_test, y_predictions)"
   ]
  },
  {
   "cell_type": "code",
   "execution_count": 112,
   "id": "74c40ce5",
   "metadata": {},
   "outputs": [
    {
     "name": "stdout",
     "output_type": "stream",
     "text": [
      "Train Accuracy: 0.8950626438756867\n",
      "Test Accuracy: 0.8616459792404898\n"
     ]
    }
   ],
   "source": [
    "print(\"Train Accuracy:\", regr.score(x_train,y_train))\n",
    "print(\"Test Accuracy:\", regr.score(x_test,y_test))"
   ]
  },
  {
   "cell_type": "markdown",
   "id": "7c590118",
   "metadata": {},
   "source": [
    "before fitting data we can normalize our data as follows:"
   ]
  },
  {
   "cell_type": "code",
   "execution_count": 113,
   "id": "5991318b",
   "metadata": {
    "scrolled": true
   },
   "outputs": [
    {
     "data": {
      "text/plain": [
       "45802.22707126482"
      ]
     },
     "execution_count": 113,
     "metadata": {},
     "output_type": "execute_result"
    }
   ],
   "source": [
    "model = linear_model.LinearRegression(fit_intercept=False).fit(x_train, y_train)\n",
    "predics = model.predict(x_test)\n",
    "mean_squared_error(y_test, predics)"
   ]
  },
  {
   "cell_type": "markdown",
   "id": "92becd2f",
   "metadata": {},
   "source": [
    "class sklearn.linear_model.SGDRegressor, Linear model fitted by minimizing a regularized empirical loss with SGD. The regularizer is a penalty added to the loss function that shrinks model parameters towards the zero vector using either the squared euclidean norm L2 or the absolute norm L1 or a combination of both (Elastic Net)"
   ]
  },
  {
   "cell_type": "code",
   "execution_count": 114,
   "id": "f88ffb21",
   "metadata": {},
   "outputs": [
    {
     "data": {
      "text/plain": [
       "18570.438379955634"
      ]
     },
     "execution_count": 114,
     "metadata": {},
     "output_type": "execute_result"
    }
   ],
   "source": [
    "from sklearn.linear_model import SGDRegressor\n",
    "from sklearn.pipeline import make_pipeline\n",
    "from sklearn.preprocessing import StandardScaler\n",
    "# Always scale the input. The most convenient way is to use a pipeline.\n",
    "\n",
    "def reg_reg(s1, s2, f):\n",
    "    if not f:\n",
    "        reg = make_pipeline(StandardScaler(), SGDRegressor(penalty=s1)).fit(x_train, y_train.ravel())\n",
    "        return mean_squared_error(y_test.ravel(), reg.predict(x_test))\n",
    "    else:\n",
    "        reg = make_pipeline(StandardScaler(), SGDRegressor(penalty=s1, learning_rate=s2)).fit(x_train, y_train.ravel())\n",
    "        return mean_squared_error(y_test.ravel(), reg.predict(x_test))\n",
    "\n",
    "#Ridge\n",
    "reg_reg('l2', None, False)"
   ]
  },
  {
   "cell_type": "markdown",
   "id": "666c1c33",
   "metadata": {},
   "source": [
    "In SGDRegressor we have the penalty{‘l2’, ‘l1’, ‘elasticnet’}, default=’l2’ field. Choosing l1, l2 and elasticnet will result in a Lasso, Ridge and elasticnet cost models respectively."
   ]
  },
  {
   "cell_type": "code",
   "execution_count": 115,
   "id": "8cf68223",
   "metadata": {},
   "outputs": [
    {
     "data": {
      "text/plain": [
       "18489.169606500065"
      ]
     },
     "execution_count": 115,
     "metadata": {},
     "output_type": "execute_result"
    }
   ],
   "source": [
    "#lasso\n",
    "reg_reg('l1', None, False)"
   ]
  },
  {
   "cell_type": "code",
   "execution_count": 116,
   "id": "1fafd00a",
   "metadata": {},
   "outputs": [
    {
     "data": {
      "text/plain": [
       "18538.659963436086"
      ]
     },
     "execution_count": 116,
     "metadata": {},
     "output_type": "execute_result"
    }
   ],
   "source": [
    "#elasticnet\n",
    "reg_reg('elasticnet', None, False)"
   ]
  },
  {
   "cell_type": "markdown",
   "id": "0c815a12",
   "metadata": {},
   "source": [
    "elasticNet is the best, and We can also tune other parameters such as learning rate."
   ]
  },
  {
   "cell_type": "code",
   "execution_count": 117,
   "id": "b52744c6",
   "metadata": {},
   "outputs": [
    {
     "data": {
      "text/plain": [
       "19466.469563575847"
      ]
     },
     "execution_count": 117,
     "metadata": {},
     "output_type": "execute_result"
    }
   ],
   "source": [
    "reg_reg('elasticnet', 'constant', True)"
   ]
  },
  {
   "cell_type": "code",
   "execution_count": 118,
   "id": "4d3634c7",
   "metadata": {},
   "outputs": [
    {
     "data": {
      "text/plain": [
       "3.76288012562586e+24"
      ]
     },
     "execution_count": 118,
     "metadata": {},
     "output_type": "execute_result"
    }
   ],
   "source": [
    "reg_reg('elasticnet', 'optimal', True)"
   ]
  },
  {
   "cell_type": "code",
   "execution_count": 119,
   "id": "5e249761",
   "metadata": {},
   "outputs": [
    {
     "name": "stderr",
     "output_type": "stream",
     "text": [
      "C:\\Users\\acer\\anaconda3\\lib\\site-packages\\sklearn\\linear_model\\_stochastic_gradient.py:1503: ConvergenceWarning: Maximum number of iteration reached before convergence. Consider increasing max_iter to improve the fit.\n",
      "  warnings.warn(\n"
     ]
    },
    {
     "data": {
      "text/plain": [
       "18565.520624464098"
      ]
     },
     "execution_count": 119,
     "metadata": {},
     "output_type": "execute_result"
    }
   ],
   "source": [
    "reg_reg('elasticnet', 'adaptive', True)"
   ]
  },
  {
   "cell_type": "markdown",
   "id": "fa209e46",
   "metadata": {},
   "source": [
    "It seems that adaptive learning rate performs slightly better.\n",
    "\n",
    "so in elastic net regression with hyperparameters that learning rate being optimal is the best learner."
   ]
  },
  {
   "cell_type": "markdown",
   "id": "05a7ddaa",
   "metadata": {},
   "source": [
    "# lasso"
   ]
  },
  {
   "cell_type": "markdown",
   "id": "962505d6",
   "metadata": {},
   "source": [
    "initialize a lasso model:"
   ]
  },
  {
   "cell_type": "code",
   "execution_count": 120,
   "id": "9f8595b7",
   "metadata": {},
   "outputs": [],
   "source": [
    "from sklearn.linear_model import Lasso\n",
    "model=Lasso(max_iter=5000)"
   ]
  },
  {
   "cell_type": "markdown",
   "id": "05208aae",
   "metadata": {},
   "source": [
    "fit model on train data:"
   ]
  },
  {
   "cell_type": "code",
   "execution_count": 121,
   "id": "3f306a3f",
   "metadata": {},
   "outputs": [
    {
     "data": {
      "text/plain": [
       "Lasso(max_iter=5000)"
      ]
     },
     "execution_count": 121,
     "metadata": {},
     "output_type": "execute_result"
    }
   ],
   "source": [
    "model.fit(x_train,y_train)"
   ]
  },
  {
   "cell_type": "markdown",
   "id": "9bef1754",
   "metadata": {},
   "source": [
    "score model with test data:"
   ]
  },
  {
   "cell_type": "code",
   "execution_count": 122,
   "id": "c5c4f803",
   "metadata": {},
   "outputs": [
    {
     "name": "stdout",
     "output_type": "stream",
     "text": [
      "18163.75474831662\n",
      "Train Accuracy: 0.8950626438756867\n",
      "Test Accuracy: 0.8616459792404898\n"
     ]
    }
   ],
   "source": [
    "model.score(x_test,y_test)\n",
    "print(mean_squared_error(y_test, y_predictions))\n",
    "print(\"Train Accuracy:\", regr.score(x_train,y_train))\n",
    "print(\"Test Accuracy:\", regr.score(x_test,y_test))"
   ]
  },
  {
   "cell_type": "markdown",
   "id": "45bf3f95",
   "metadata": {},
   "source": [
    "w is :"
   ]
  },
  {
   "cell_type": "code",
   "execution_count": 123,
   "id": "8f96b99b",
   "metadata": {},
   "outputs": [
    {
     "data": {
      "text/plain": [
       "array([ 52.62388216,   0.        , -24.12384525,  28.50089424,\n",
       "         6.69716329])"
      ]
     },
     "execution_count": 123,
     "metadata": {},
     "output_type": "execute_result"
    }
   ],
   "source": [
    "model.coef_"
   ]
  }
 ],
 "metadata": {
  "direction": "ltr",
  "kernelspec": {
   "display_name": "Python 3 (ipykernel)",
   "language": "python",
   "name": "python3"
  },
  "language_info": {
   "codemirror_mode": {
    "name": "ipython",
    "version": 3
   },
   "file_extension": ".py",
   "mimetype": "text/x-python",
   "name": "python",
   "nbconvert_exporter": "python",
   "pygments_lexer": "ipython3",
   "version": "3.9.12"
  }
 },
 "nbformat": 4,
 "nbformat_minor": 5
}
