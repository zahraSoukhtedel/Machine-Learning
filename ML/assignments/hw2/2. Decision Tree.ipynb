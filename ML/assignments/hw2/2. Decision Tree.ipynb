{
 "cells": [
  {
   "cell_type": "markdown",
   "id": "6baf2598",
   "metadata": {
    "ExecuteTime": {
     "end_time": "2022-10-22T21:06:33.084910Z",
     "start_time": "2022-10-22T21:06:33.065246Z"
    }
   },
   "source": [
    "<br><font face=\"Times New Roman\" size=5><div dir=ltr align=center>\n",
    "<font color=blue size=8>\n",
    "    Introduction to Machine Learning <br>\n",
    "<font color=red size=5>\n",
    "    Sharif University of Technology - Computer Engineering Department <br>\n",
    "    Fall 2022<br> <br>\n",
    "<font color=black size=6>\n",
    "    Homework 2: Practical - Decision Tree   \n",
    "<font color=black size=4>\n",
    "    Hamidreza Yaghoubi \n",
    "    \n",
    "   \n",
    "<br><br>\n",
    "<font size=4>\n",
    "   **Name**: Zahra Soukhtedel<br>\n",
    "   **Student ID**: 98105138 <br> <br>\n",
    "In this homework, we are going to implement the Classification Decision Tree. Keep in mind to complete all of the following questions and write your own codes in the TODO cells."
   ]
  },
  {
   "cell_type": "markdown",
   "id": "bd3871b7",
   "metadata": {},
   "source": [
    "<font face=\"Times New Roman\" size=4><div dir=ltr>\n",
    "# Problem 2: Classification Decision Tree (100 points)\n",
    "We will implement a Classification Decision Tree from scratch in the following problem. Then we will use our model to predict malignant and benign breast cancer. For this purpose, we will use the breast_cancer.csv dataset which you can find more details about it <a href=\"https://www.kaggle.com/datasets/merishnasuwal/breast-cancer-prediction-dataset\"><font face=\"Roboto\">here</font></a>."
   ]
  },
  {
   "cell_type": "code",
   "execution_count": 61,
   "id": "ccdebb27",
   "metadata": {
    "ExecuteTime": {
     "end_time": "2022-10-22T21:30:24.876526Z",
     "start_time": "2022-10-22T21:30:24.439793Z"
    }
   },
   "outputs": [],
   "source": [
    "import pandas as pd\n",
    "from sklearn.model_selection import train_test_split\n",
    "from sklearn.metrics import accuracy_score\n",
    "from math import log\n",
    "import random"
   ]
  },
  {
   "cell_type": "markdown",
   "id": "e2307c50",
   "metadata": {},
   "source": [
    "<font face=\"Times New Roman\" size=4><div dir=ltr>\n",
    "## Classification Decision Tree Class (60 points)\n",
    "In this section, you only need to fill TODO parts. You can find the logic and formula in both course slides and the web, but fill it out on your own. "
   ]
  },
  {
   "cell_type": "code",
   "execution_count": 62,
   "id": "618baebb",
   "metadata": {
    "ExecuteTime": {
     "end_time": "2022-10-22T21:30:25.034364Z",
     "start_time": "2022-10-22T21:30:25.021627Z"
    }
   },
   "outputs": [],
   "source": [
    "class Node:\n",
    "    def __init__(self, feature=None, threshold=None, left=None, right=None, value=None):\n",
    "        self.feature = feature\n",
    "        self.threshold = threshold\n",
    "        self.left = left\n",
    "        self.right = right\n",
    "        self.value = value\n",
    "\n",
    "    def is_leaf(self):\n",
    "        if self.value is not None:\n",
    "            return True\n",
    "        return False"
   ]
  },
  {
   "cell_type": "code",
   "execution_count": 63,
   "id": "71b3b483",
   "metadata": {
    "ExecuteTime": {
     "end_time": "2022-10-22T21:30:25.439792Z",
     "start_time": "2022-10-22T21:30:25.404649Z"
    }
   },
   "outputs": [],
   "source": [
    "class DecisionTree:\n",
    "    def __init__(self, max_depth=None, min_samples_split=2):\n",
    "        self.max_depth = max_depth\n",
    "        self.min_samples_split = min_samples_split\n",
    "        self.root = None\n",
    "\n",
    "    def is_splitting_finished(self, depth, num_class_labels, num_samples):\n",
    "\n",
    "        #TODO\n",
    "        if (self.max_depth == depth or num_samples <= self.min_samples_split or num_class_labels == 1):\n",
    "            return True\n",
    "\n",
    "        return False\n",
    "\n",
    "    def split(self, X, y, feature, threshold):\n",
    "        left_indexes = X[feature] <= threshold\n",
    "        right_indexes = -left_indexes\n",
    "        X_left = X[left_indexes]\n",
    "        y_left = y[left_indexes]\n",
    "        X_right = X[right_indexes]\n",
    "        y_right = y[right_indexes]\n",
    "\n",
    "        return X_left, X_right, y_left, y_right\n",
    "\n",
    "    def entropy(self, y):\n",
    "        p = len(y[y == 1]) / len(y)\n",
    "        if (p == 1 or p == 0):\n",
    "            return 0\n",
    "        ent = -(p * log(p, 2) + (1-p) * log((1-p), 2))\n",
    "        return ent\n",
    "\n",
    "\n",
    "    def information_gain(self, X, y, feature, threshold):\n",
    "        X_left, X_right, y_left, y_right = self.split(X, y, feature, threshold)\n",
    "        H_y = self.entropy(y)\n",
    "        p = len(X[X[feature] >= threshold]) / len(X)\n",
    "                \n",
    "        \n",
    "        if len(y_left) != 0:\n",
    "            ent_left = self.entropy(y_left)\n",
    "        else:\n",
    "            ent_left = 0\n",
    "        if len(y_right) != 0:\n",
    "            ent_right = self.entropy(y_right)\n",
    "        else:\n",
    "            ent_right = 0\n",
    "        \n",
    "        return (H_y - ((1-p) * ent_left + p * ent_right))\n",
    "\n",
    "    def best_split(self, X, y):\n",
    "        features = list(X.columns.values)\n",
    "        random.shuffle(features)\n",
    "        best_information_gain = 0\n",
    "        best_feature = None\n",
    "        best_threshold = None\n",
    "        for feature in features:\n",
    "            thresholds = list(set(list(X[feature])))\n",
    "            for threshold in thresholds:\n",
    "                info_gain = self.information_gain(X, y, feature, threshold)\n",
    "                if info_gain >= best_information_gain:\n",
    "                    best_information_gain = info_gain\n",
    "                    best_feature = feature\n",
    "                    best_threshold = threshold\n",
    "        return best_feature, best_threshold\n",
    "\n",
    "    def build_tree(self, X, y, depth=0):\n",
    "        if self.is_splitting_finished(depth, len(X.columns), len(X)):\n",
    "            return None\n",
    "\n",
    "        best_feature, best_threshold = self.best_split(X, y)\n",
    "        X_left, X_right, y_left, y_right = self.split(X, y, best_feature, best_threshold)\n",
    "\n",
    "        left_node = self.build_tree(X_left, y_left, depth=depth + 1)\n",
    "        right_node = self.build_tree(X_right, y_right, depth=depth + 1)\n",
    "\n",
    "        value = None\n",
    "        if left_node is None or right_node is None:\n",
    "            true_value = len(y[y['diagnosis'] == 1])\n",
    "            false_value = len(y[y['diagnosis'] == 0])\n",
    "            if true_value >= false_value:\n",
    "                value = 1\n",
    "            else:\n",
    "                value = 0\n",
    "\n",
    "        return Node(feature=best_feature, threshold=best_threshold, left=left_node, right=right_node, value=value)\n",
    "\n",
    "    def fit(self, X, y):\n",
    "        self.root = self.build_tree(X, y)\n",
    "\n",
    "    def predict(self, X):\n",
    "        tree = self.root\n",
    "        predicted_value = []\n",
    "        for index in list(X.index):\n",
    "            data = X.loc[index]\n",
    "            current_tree = tree\n",
    "            for depth in range(self.max_depth):\n",
    "                if Node.is_leaf(current_tree):\n",
    "                    predicted_value.append(current_tree.value)\n",
    "                    break\n",
    "                feature = current_tree.feature\n",
    "                threshold = current_tree.threshold\n",
    "                if data[feature] <= threshold:\n",
    "                    current_tree = current_tree.left\n",
    "                if data[feature] > threshold:\n",
    "                    current_tree = current_tree.right\n",
    "\n",
    "        return predicted_value\n",
    "    \n"
   ]
  },
  {
   "cell_type": "markdown",
   "id": "8e2197f0",
   "metadata": {},
   "source": [
    "<font face=\"Times New Roman\" size=4><div dir=ltr>\n",
    "## Data Prepration (20 points)\n",
    "In this section, you must perform a good EDA for data. Then split it into train and validation data. We will then use the validation data to find the best model hyperparameters.  "
   ]
  },
  {
   "cell_type": "code",
   "execution_count": 64,
   "id": "da5a4d94",
   "metadata": {
    "ExecuteTime": {
     "end_time": "2022-10-22T21:30:26.199958Z",
     "start_time": "2022-10-22T21:30:26.192910Z"
    }
   },
   "outputs": [],
   "source": [
    "breast_cancer_pdf = pd.read_csv(\"breast_cancer.csv\")"
   ]
  },
  {
   "cell_type": "code",
   "execution_count": 65,
   "id": "27207399",
   "metadata": {
    "ExecuteTime": {
     "end_time": "2022-10-22T21:30:28.478997Z",
     "start_time": "2022-10-22T21:30:28.476044Z"
    },
    "scrolled": true
   },
   "outputs": [
    {
     "data": {
      "text/html": [
       "<div>\n",
       "<style scoped>\n",
       "    .dataframe tbody tr th:only-of-type {\n",
       "        vertical-align: middle;\n",
       "    }\n",
       "\n",
       "    .dataframe tbody tr th {\n",
       "        vertical-align: top;\n",
       "    }\n",
       "\n",
       "    .dataframe thead th {\n",
       "        text-align: right;\n",
       "    }\n",
       "</style>\n",
       "<table border=\"1\" class=\"dataframe\">\n",
       "  <thead>\n",
       "    <tr style=\"text-align: right;\">\n",
       "      <th></th>\n",
       "      <th>mean_radius</th>\n",
       "      <th>mean_texture</th>\n",
       "      <th>mean_perimeter</th>\n",
       "      <th>mean_area</th>\n",
       "      <th>mean_smoothness</th>\n",
       "      <th>diagnosis</th>\n",
       "    </tr>\n",
       "  </thead>\n",
       "  <tbody>\n",
       "    <tr>\n",
       "      <th>0</th>\n",
       "      <td>17.99</td>\n",
       "      <td>10.38</td>\n",
       "      <td>122.80</td>\n",
       "      <td>1001.0</td>\n",
       "      <td>0.11840</td>\n",
       "      <td>0</td>\n",
       "    </tr>\n",
       "    <tr>\n",
       "      <th>1</th>\n",
       "      <td>20.57</td>\n",
       "      <td>17.77</td>\n",
       "      <td>132.90</td>\n",
       "      <td>1326.0</td>\n",
       "      <td>0.08474</td>\n",
       "      <td>0</td>\n",
       "    </tr>\n",
       "    <tr>\n",
       "      <th>2</th>\n",
       "      <td>19.69</td>\n",
       "      <td>21.25</td>\n",
       "      <td>130.00</td>\n",
       "      <td>1203.0</td>\n",
       "      <td>0.10960</td>\n",
       "      <td>0</td>\n",
       "    </tr>\n",
       "    <tr>\n",
       "      <th>3</th>\n",
       "      <td>11.42</td>\n",
       "      <td>20.38</td>\n",
       "      <td>77.58</td>\n",
       "      <td>386.1</td>\n",
       "      <td>0.14250</td>\n",
       "      <td>0</td>\n",
       "    </tr>\n",
       "    <tr>\n",
       "      <th>4</th>\n",
       "      <td>20.29</td>\n",
       "      <td>14.34</td>\n",
       "      <td>135.10</td>\n",
       "      <td>1297.0</td>\n",
       "      <td>0.10030</td>\n",
       "      <td>0</td>\n",
       "    </tr>\n",
       "  </tbody>\n",
       "</table>\n",
       "</div>"
      ],
      "text/plain": [
       "   mean_radius  mean_texture  mean_perimeter  mean_area  mean_smoothness  \\\n",
       "0        17.99         10.38          122.80     1001.0          0.11840   \n",
       "1        20.57         17.77          132.90     1326.0          0.08474   \n",
       "2        19.69         21.25          130.00     1203.0          0.10960   \n",
       "3        11.42         20.38           77.58      386.1          0.14250   \n",
       "4        20.29         14.34          135.10     1297.0          0.10030   \n",
       "\n",
       "   diagnosis  \n",
       "0          0  \n",
       "1          0  \n",
       "2          0  \n",
       "3          0  \n",
       "4          0  "
      ]
     },
     "execution_count": 65,
     "metadata": {},
     "output_type": "execute_result"
    }
   ],
   "source": [
    "breast_cancer_pdf.head()"
   ]
  },
  {
   "cell_type": "markdown",
   "id": "4ea92d90",
   "metadata": {},
   "source": [
    "we can see columns of data:"
   ]
  },
  {
   "cell_type": "code",
   "execution_count": 66,
   "id": "75aa94bf",
   "metadata": {},
   "outputs": [
    {
     "data": {
      "text/plain": [
       "Index(['mean_radius', 'mean_texture', 'mean_perimeter', 'mean_area',\n",
       "       'mean_smoothness', 'diagnosis'],\n",
       "      dtype='object')"
      ]
     },
     "execution_count": 66,
     "metadata": {},
     "output_type": "execute_result"
    }
   ],
   "source": [
    "breast_cancer_pdf.columns"
   ]
  },
  {
   "cell_type": "markdown",
   "id": "c26ebeac",
   "metadata": {},
   "source": [
    "shape of data:"
   ]
  },
  {
   "cell_type": "code",
   "execution_count": 67,
   "id": "b30dce48",
   "metadata": {},
   "outputs": [
    {
     "data": {
      "text/plain": [
       "(569, 6)"
      ]
     },
     "execution_count": 67,
     "metadata": {},
     "output_type": "execute_result"
    }
   ],
   "source": [
    "breast_cancer_pdf.shape"
   ]
  },
  {
   "cell_type": "code",
   "execution_count": 68,
   "id": "e4551b3f",
   "metadata": {},
   "outputs": [
    {
     "name": "stdout",
     "output_type": "stream",
     "text": [
      "<class 'pandas.core.frame.DataFrame'>\n",
      "RangeIndex: 569 entries, 0 to 568\n",
      "Data columns (total 6 columns):\n",
      " #   Column           Non-Null Count  Dtype  \n",
      "---  ------           --------------  -----  \n",
      " 0   mean_radius      569 non-null    float64\n",
      " 1   mean_texture     569 non-null    float64\n",
      " 2   mean_perimeter   569 non-null    float64\n",
      " 3   mean_area        569 non-null    float64\n",
      " 4   mean_smoothness  569 non-null    float64\n",
      " 5   diagnosis        569 non-null    int64  \n",
      "dtypes: float64(5), int64(1)\n",
      "memory usage: 26.8 KB\n"
     ]
    }
   ],
   "source": [
    "breast_cancer_pdf.info()"
   ]
  },
  {
   "cell_type": "markdown",
   "id": "cffbd2cd",
   "metadata": {},
   "source": [
    "describe hepls us to see mean,count,std,min,max and percentages:"
   ]
  },
  {
   "cell_type": "code",
   "execution_count": 69,
   "id": "7a8d45a8",
   "metadata": {
    "scrolled": true
   },
   "outputs": [
    {
     "data": {
      "text/html": [
       "<div>\n",
       "<style scoped>\n",
       "    .dataframe tbody tr th:only-of-type {\n",
       "        vertical-align: middle;\n",
       "    }\n",
       "\n",
       "    .dataframe tbody tr th {\n",
       "        vertical-align: top;\n",
       "    }\n",
       "\n",
       "    .dataframe thead th {\n",
       "        text-align: right;\n",
       "    }\n",
       "</style>\n",
       "<table border=\"1\" class=\"dataframe\">\n",
       "  <thead>\n",
       "    <tr style=\"text-align: right;\">\n",
       "      <th></th>\n",
       "      <th>mean_radius</th>\n",
       "      <th>mean_texture</th>\n",
       "      <th>mean_perimeter</th>\n",
       "      <th>mean_area</th>\n",
       "      <th>mean_smoothness</th>\n",
       "      <th>diagnosis</th>\n",
       "    </tr>\n",
       "  </thead>\n",
       "  <tbody>\n",
       "    <tr>\n",
       "      <th>count</th>\n",
       "      <td>569.000000</td>\n",
       "      <td>569.000000</td>\n",
       "      <td>569.000000</td>\n",
       "      <td>569.000000</td>\n",
       "      <td>569.000000</td>\n",
       "      <td>569.000000</td>\n",
       "    </tr>\n",
       "    <tr>\n",
       "      <th>mean</th>\n",
       "      <td>14.127292</td>\n",
       "      <td>19.289649</td>\n",
       "      <td>91.969033</td>\n",
       "      <td>654.889104</td>\n",
       "      <td>0.096360</td>\n",
       "      <td>0.627417</td>\n",
       "    </tr>\n",
       "    <tr>\n",
       "      <th>std</th>\n",
       "      <td>3.524049</td>\n",
       "      <td>4.301036</td>\n",
       "      <td>24.298981</td>\n",
       "      <td>351.914129</td>\n",
       "      <td>0.014064</td>\n",
       "      <td>0.483918</td>\n",
       "    </tr>\n",
       "    <tr>\n",
       "      <th>min</th>\n",
       "      <td>6.981000</td>\n",
       "      <td>9.710000</td>\n",
       "      <td>43.790000</td>\n",
       "      <td>143.500000</td>\n",
       "      <td>0.052630</td>\n",
       "      <td>0.000000</td>\n",
       "    </tr>\n",
       "    <tr>\n",
       "      <th>25%</th>\n",
       "      <td>11.700000</td>\n",
       "      <td>16.170000</td>\n",
       "      <td>75.170000</td>\n",
       "      <td>420.300000</td>\n",
       "      <td>0.086370</td>\n",
       "      <td>0.000000</td>\n",
       "    </tr>\n",
       "    <tr>\n",
       "      <th>50%</th>\n",
       "      <td>13.370000</td>\n",
       "      <td>18.840000</td>\n",
       "      <td>86.240000</td>\n",
       "      <td>551.100000</td>\n",
       "      <td>0.095870</td>\n",
       "      <td>1.000000</td>\n",
       "    </tr>\n",
       "    <tr>\n",
       "      <th>75%</th>\n",
       "      <td>15.780000</td>\n",
       "      <td>21.800000</td>\n",
       "      <td>104.100000</td>\n",
       "      <td>782.700000</td>\n",
       "      <td>0.105300</td>\n",
       "      <td>1.000000</td>\n",
       "    </tr>\n",
       "    <tr>\n",
       "      <th>max</th>\n",
       "      <td>28.110000</td>\n",
       "      <td>39.280000</td>\n",
       "      <td>188.500000</td>\n",
       "      <td>2501.000000</td>\n",
       "      <td>0.163400</td>\n",
       "      <td>1.000000</td>\n",
       "    </tr>\n",
       "  </tbody>\n",
       "</table>\n",
       "</div>"
      ],
      "text/plain": [
       "       mean_radius  mean_texture  mean_perimeter    mean_area  \\\n",
       "count   569.000000    569.000000      569.000000   569.000000   \n",
       "mean     14.127292     19.289649       91.969033   654.889104   \n",
       "std       3.524049      4.301036       24.298981   351.914129   \n",
       "min       6.981000      9.710000       43.790000   143.500000   \n",
       "25%      11.700000     16.170000       75.170000   420.300000   \n",
       "50%      13.370000     18.840000       86.240000   551.100000   \n",
       "75%      15.780000     21.800000      104.100000   782.700000   \n",
       "max      28.110000     39.280000      188.500000  2501.000000   \n",
       "\n",
       "       mean_smoothness   diagnosis  \n",
       "count       569.000000  569.000000  \n",
       "mean          0.096360    0.627417  \n",
       "std           0.014064    0.483918  \n",
       "min           0.052630    0.000000  \n",
       "25%           0.086370    0.000000  \n",
       "50%           0.095870    1.000000  \n",
       "75%           0.105300    1.000000  \n",
       "max           0.163400    1.000000  "
      ]
     },
     "execution_count": 69,
     "metadata": {},
     "output_type": "execute_result"
    }
   ],
   "source": [
    "breast_cancer_pdf.describe()"
   ]
  },
  {
   "cell_type": "markdown",
   "id": "24052994",
   "metadata": {},
   "source": [
    "lets see missing values:"
   ]
  },
  {
   "cell_type": "code",
   "execution_count": 70,
   "id": "ec5a883e",
   "metadata": {
    "scrolled": false
   },
   "outputs": [
    {
     "data": {
      "text/plain": [
       "mean_radius        0\n",
       "mean_texture       0\n",
       "mean_perimeter     0\n",
       "mean_area          0\n",
       "mean_smoothness    0\n",
       "diagnosis          0\n",
       "dtype: int64"
      ]
     },
     "execution_count": 70,
     "metadata": {},
     "output_type": "execute_result"
    }
   ],
   "source": [
    "breast_cancer_pdf.isnull().sum()"
   ]
  },
  {
   "cell_type": "markdown",
   "id": "13970088",
   "metadata": {},
   "source": [
    "there is no missing value."
   ]
  },
  {
   "cell_type": "markdown",
   "id": "73425624",
   "metadata": {},
   "source": [
    "find duplicate values:"
   ]
  },
  {
   "cell_type": "code",
   "execution_count": 71,
   "id": "00977432",
   "metadata": {},
   "outputs": [
    {
     "data": {
      "text/plain": [
       "0"
      ]
     },
     "execution_count": 71,
     "metadata": {},
     "output_type": "execute_result"
    }
   ],
   "source": [
    "breast_cancer_pdf.duplicated().sum()"
   ]
  },
  {
   "cell_type": "markdown",
   "id": "be1b41eb",
   "metadata": {},
   "source": [
    "there is no duplicated value."
   ]
  },
  {
   "cell_type": "markdown",
   "id": "09cf2fac",
   "metadata": {},
   "source": [
    "lets figure out the data types:"
   ]
  },
  {
   "cell_type": "code",
   "execution_count": 72,
   "id": "421999e1",
   "metadata": {
    "scrolled": true
   },
   "outputs": [
    {
     "data": {
      "text/plain": [
       "mean_radius        float64\n",
       "mean_texture       float64\n",
       "mean_perimeter     float64\n",
       "mean_area          float64\n",
       "mean_smoothness    float64\n",
       "diagnosis            int64\n",
       "dtype: object"
      ]
     },
     "execution_count": 72,
     "metadata": {},
     "output_type": "execute_result"
    }
   ],
   "source": [
    "breast_cancer_pdf.dtypes"
   ]
  },
  {
   "cell_type": "markdown",
   "id": "92d02915",
   "metadata": {},
   "source": [
    "find the correlations among the variables:"
   ]
  },
  {
   "cell_type": "code",
   "execution_count": 73,
   "id": "82ecfe0f",
   "metadata": {},
   "outputs": [
    {
     "data": {
      "text/html": [
       "<div>\n",
       "<style scoped>\n",
       "    .dataframe tbody tr th:only-of-type {\n",
       "        vertical-align: middle;\n",
       "    }\n",
       "\n",
       "    .dataframe tbody tr th {\n",
       "        vertical-align: top;\n",
       "    }\n",
       "\n",
       "    .dataframe thead th {\n",
       "        text-align: right;\n",
       "    }\n",
       "</style>\n",
       "<table border=\"1\" class=\"dataframe\">\n",
       "  <thead>\n",
       "    <tr style=\"text-align: right;\">\n",
       "      <th></th>\n",
       "      <th>mean_radius</th>\n",
       "      <th>mean_texture</th>\n",
       "      <th>mean_perimeter</th>\n",
       "      <th>mean_area</th>\n",
       "      <th>mean_smoothness</th>\n",
       "      <th>diagnosis</th>\n",
       "    </tr>\n",
       "  </thead>\n",
       "  <tbody>\n",
       "    <tr>\n",
       "      <th>mean_radius</th>\n",
       "      <td>1.000000</td>\n",
       "      <td>0.323782</td>\n",
       "      <td>0.997855</td>\n",
       "      <td>0.987357</td>\n",
       "      <td>0.170581</td>\n",
       "      <td>-0.730029</td>\n",
       "    </tr>\n",
       "    <tr>\n",
       "      <th>mean_texture</th>\n",
       "      <td>0.323782</td>\n",
       "      <td>1.000000</td>\n",
       "      <td>0.329533</td>\n",
       "      <td>0.321086</td>\n",
       "      <td>-0.023389</td>\n",
       "      <td>-0.415185</td>\n",
       "    </tr>\n",
       "    <tr>\n",
       "      <th>mean_perimeter</th>\n",
       "      <td>0.997855</td>\n",
       "      <td>0.329533</td>\n",
       "      <td>1.000000</td>\n",
       "      <td>0.986507</td>\n",
       "      <td>0.207278</td>\n",
       "      <td>-0.742636</td>\n",
       "    </tr>\n",
       "    <tr>\n",
       "      <th>mean_area</th>\n",
       "      <td>0.987357</td>\n",
       "      <td>0.321086</td>\n",
       "      <td>0.986507</td>\n",
       "      <td>1.000000</td>\n",
       "      <td>0.177028</td>\n",
       "      <td>-0.708984</td>\n",
       "    </tr>\n",
       "    <tr>\n",
       "      <th>mean_smoothness</th>\n",
       "      <td>0.170581</td>\n",
       "      <td>-0.023389</td>\n",
       "      <td>0.207278</td>\n",
       "      <td>0.177028</td>\n",
       "      <td>1.000000</td>\n",
       "      <td>-0.358560</td>\n",
       "    </tr>\n",
       "    <tr>\n",
       "      <th>diagnosis</th>\n",
       "      <td>-0.730029</td>\n",
       "      <td>-0.415185</td>\n",
       "      <td>-0.742636</td>\n",
       "      <td>-0.708984</td>\n",
       "      <td>-0.358560</td>\n",
       "      <td>1.000000</td>\n",
       "    </tr>\n",
       "  </tbody>\n",
       "</table>\n",
       "</div>"
      ],
      "text/plain": [
       "                 mean_radius  mean_texture  mean_perimeter  mean_area  \\\n",
       "mean_radius         1.000000      0.323782        0.997855   0.987357   \n",
       "mean_texture        0.323782      1.000000        0.329533   0.321086   \n",
       "mean_perimeter      0.997855      0.329533        1.000000   0.986507   \n",
       "mean_area           0.987357      0.321086        0.986507   1.000000   \n",
       "mean_smoothness     0.170581     -0.023389        0.207278   0.177028   \n",
       "diagnosis          -0.730029     -0.415185       -0.742636  -0.708984   \n",
       "\n",
       "                 mean_smoothness  diagnosis  \n",
       "mean_radius             0.170581  -0.730029  \n",
       "mean_texture           -0.023389  -0.415185  \n",
       "mean_perimeter          0.207278  -0.742636  \n",
       "mean_area               0.177028  -0.708984  \n",
       "mean_smoothness         1.000000  -0.358560  \n",
       "diagnosis              -0.358560   1.000000  "
      ]
     },
     "execution_count": 73,
     "metadata": {},
     "output_type": "execute_result"
    }
   ],
   "source": [
    "breast_cancer_pdf.corr()"
   ]
  },
  {
   "cell_type": "code",
   "execution_count": 74,
   "id": "39ba4c34",
   "metadata": {
    "ExecuteTime": {
     "end_time": "2022-10-22T21:30:38.003703Z",
     "start_time": "2022-10-22T21:30:37.996292Z"
    }
   },
   "outputs": [],
   "source": [
    "X = breast_cancer_pdf.drop(['diagnosis'], axis=1)\n",
    "y = breast_cancer_pdf[['diagnosis']]\n",
    "\n",
    "x_train, x_val, y_train, y_val = train_test_split(X, y, test_size=0.70, random_state=42)"
   ]
  },
  {
   "cell_type": "markdown",
   "id": "cefd7a92",
   "metadata": {},
   "source": [
    "<font face=\"Times New Roman\" size=4><div dir=ltr>\n",
    "## Training And Tuning Hyperparameters (20 points)\n",
    "In this section, you only need to find the best hyperparameters for your model. You can test different values and permutations of hyperparameters by adding them to the lists below. Your model must have at least accuracy=0.85 on validation data."
   ]
  },
  {
   "cell_type": "markdown",
   "id": "1234bbf6",
   "metadata": {},
   "source": [
    "max-depth : shows maximum depth of tree that it has upper bound of (number-of-samples - 1).\n",
    "\n",
    "min_samples_splits : shows minimum number of samples that could be in a node in deciding process."
   ]
  },
  {
   "cell_type": "code",
   "execution_count": 81,
   "id": "assigned-estate",
   "metadata": {
    "ExecuteTime": {
     "end_time": "2022-10-22T21:36:15.733600Z",
     "start_time": "2022-10-22T21:36:15.730426Z"
    }
   },
   "outputs": [],
   "source": [
    "max_depths = [1, 2, 3, 4, 5, 6, 7, 8, 9, 10]\n",
    "min_samples_splits = [1, 2, 3, 4, 5, 6, 7]"
   ]
  },
  {
   "cell_type": "code",
   "execution_count": 82,
   "id": "58003410",
   "metadata": {},
   "outputs": [
    {
     "name": "stdout",
     "output_type": "stream",
     "text": [
      "accuracy of training set for [min_samples_splits=1-max_depths=1] =0.5764705882352941\n",
      "accuracy of validation set for [min_samples_splits=1-max_depths=1] =0.6491228070175439\n",
      "------------------------------------------------\n",
      "accuracy of training set for [min_samples_splits=2-max_depths=1] =0.5764705882352941\n",
      "accuracy of validation set for [min_samples_splits=2-max_depths=1] =0.6491228070175439\n",
      "------------------------------------------------\n",
      "accuracy of training set for [min_samples_splits=3-max_depths=1] =0.5764705882352941\n",
      "accuracy of validation set for [min_samples_splits=3-max_depths=1] =0.6491228070175439\n",
      "------------------------------------------------\n",
      "accuracy of training set for [min_samples_splits=4-max_depths=1] =0.5764705882352941\n",
      "accuracy of validation set for [min_samples_splits=4-max_depths=1] =0.6491228070175439\n",
      "------------------------------------------------\n",
      "accuracy of training set for [min_samples_splits=5-max_depths=1] =0.5764705882352941\n",
      "accuracy of validation set for [min_samples_splits=5-max_depths=1] =0.6491228070175439\n",
      "------------------------------------------------\n",
      "accuracy of training set for [min_samples_splits=6-max_depths=1] =0.5764705882352941\n",
      "accuracy of validation set for [min_samples_splits=6-max_depths=1] =0.6491228070175439\n",
      "------------------------------------------------\n",
      "accuracy of training set for [min_samples_splits=7-max_depths=1] =0.5764705882352941\n",
      "accuracy of validation set for [min_samples_splits=7-max_depths=1] =0.6491228070175439\n",
      "------------------------------------------------\n",
      "accuracy of training set for [min_samples_splits=1-max_depths=2] =0.5764705882352941\n",
      "accuracy of validation set for [min_samples_splits=1-max_depths=2] =0.6491228070175439\n",
      "------------------------------------------------\n",
      "accuracy of training set for [min_samples_splits=2-max_depths=2] =0.6235294117647059\n",
      "accuracy of validation set for [min_samples_splits=2-max_depths=2] =0.6967418546365914\n",
      "------------------------------------------------\n",
      "accuracy of training set for [min_samples_splits=3-max_depths=2] =0.6235294117647059\n",
      "accuracy of validation set for [min_samples_splits=3-max_depths=2] =0.6967418546365914\n",
      "------------------------------------------------\n",
      "accuracy of training set for [min_samples_splits=4-max_depths=2] =0.5764705882352941\n",
      "accuracy of validation set for [min_samples_splits=4-max_depths=2] =0.6491228070175439\n",
      "------------------------------------------------\n",
      "accuracy of training set for [min_samples_splits=5-max_depths=2] =0.5764705882352941\n",
      "accuracy of validation set for [min_samples_splits=5-max_depths=2] =0.6491228070175439\n",
      "------------------------------------------------\n",
      "accuracy of training set for [min_samples_splits=6-max_depths=2] =0.5764705882352941\n",
      "accuracy of validation set for [min_samples_splits=6-max_depths=2] =0.6491228070175439\n",
      "------------------------------------------------\n",
      "accuracy of training set for [min_samples_splits=7-max_depths=2] =0.5764705882352941\n",
      "accuracy of validation set for [min_samples_splits=7-max_depths=2] =0.6491228070175439\n",
      "------------------------------------------------\n",
      "accuracy of training set for [min_samples_splits=1-max_depths=3] =0.8470588235294118\n",
      "accuracy of validation set for [min_samples_splits=1-max_depths=3] =0.899749373433584\n",
      "------------------------------------------------\n",
      "accuracy of training set for [min_samples_splits=2-max_depths=3] =0.7647058823529411\n",
      "accuracy of validation set for [min_samples_splits=2-max_depths=3] =0.8195488721804511\n",
      "------------------------------------------------\n",
      "accuracy of training set for [min_samples_splits=3-max_depths=3] =0.6764705882352942\n",
      "accuracy of validation set for [min_samples_splits=3-max_depths=3] =0.7343358395989975\n",
      "------------------------------------------------\n",
      "accuracy of training set for [min_samples_splits=4-max_depths=3] =0.8\n",
      "accuracy of validation set for [min_samples_splits=4-max_depths=3] =0.8771929824561403\n",
      "------------------------------------------------\n",
      "accuracy of training set for [min_samples_splits=5-max_depths=3] =0.8235294117647058\n",
      "accuracy of validation set for [min_samples_splits=5-max_depths=3] =0.7869674185463659\n",
      "------------------------------------------------\n",
      "accuracy of training set for [min_samples_splits=6-max_depths=3] =0.7823529411764706\n",
      "accuracy of validation set for [min_samples_splits=6-max_depths=3] =0.7443609022556391\n",
      "------------------------------------------------\n",
      "accuracy of training set for [min_samples_splits=7-max_depths=3] =0.8\n",
      "accuracy of validation set for [min_samples_splits=7-max_depths=3] =0.8771929824561403\n",
      "------------------------------------------------\n",
      "accuracy of training set for [min_samples_splits=1-max_depths=4] =0.8411764705882353\n",
      "accuracy of validation set for [min_samples_splits=1-max_depths=4] =0.9047619047619048\n",
      "------------------------------------------------\n",
      "accuracy of training set for [min_samples_splits=2-max_depths=4] =0.8\n",
      "accuracy of validation set for [min_samples_splits=2-max_depths=4] =0.8771929824561403\n",
      "------------------------------------------------\n",
      "accuracy of training set for [min_samples_splits=3-max_depths=4] =0.8\n",
      "accuracy of validation set for [min_samples_splits=3-max_depths=4] =0.8721804511278195\n",
      "------------------------------------------------\n",
      "accuracy of training set for [min_samples_splits=4-max_depths=4] =0.8647058823529412\n",
      "accuracy of validation set for [min_samples_splits=4-max_depths=4] =0.8471177944862155\n",
      "------------------------------------------------\n",
      "accuracy of training set for [min_samples_splits=5-max_depths=4] =0.8\n",
      "accuracy of validation set for [min_samples_splits=5-max_depths=4] =0.8771929824561403\n",
      "------------------------------------------------\n",
      "accuracy of training set for [min_samples_splits=6-max_depths=4] =0.8529411764705882\n",
      "accuracy of validation set for [min_samples_splits=6-max_depths=4] =0.8922305764411027\n",
      "------------------------------------------------\n",
      "accuracy of training set for [min_samples_splits=7-max_depths=4] =0.8470588235294118\n",
      "accuracy of validation set for [min_samples_splits=7-max_depths=4] =0.899749373433584\n",
      "------------------------------------------------\n",
      "accuracy of training set for [min_samples_splits=1-max_depths=5] =0.8529411764705882\n",
      "accuracy of validation set for [min_samples_splits=1-max_depths=5] =0.8922305764411027\n",
      "------------------------------------------------\n",
      "accuracy of training set for [min_samples_splits=2-max_depths=5] =0.7941176470588235\n",
      "accuracy of validation set for [min_samples_splits=2-max_depths=5] =0.8446115288220551\n",
      "------------------------------------------------\n",
      "accuracy of training set for [min_samples_splits=3-max_depths=5] =0.8529411764705882\n",
      "accuracy of validation set for [min_samples_splits=3-max_depths=5] =0.9097744360902256\n",
      "------------------------------------------------\n",
      "accuracy of training set for [min_samples_splits=4-max_depths=5] =0.7647058823529411\n",
      "accuracy of validation set for [min_samples_splits=4-max_depths=5] =0.8195488721804511\n",
      "------------------------------------------------\n",
      "accuracy of training set for [min_samples_splits=5-max_depths=5] =0.7647058823529411\n",
      "accuracy of validation set for [min_samples_splits=5-max_depths=5] =0.8045112781954887\n",
      "------------------------------------------------\n",
      "accuracy of training set for [min_samples_splits=6-max_depths=5] =0.7352941176470589\n",
      "accuracy of validation set for [min_samples_splits=6-max_depths=5] =0.6716791979949874\n",
      "------------------------------------------------\n",
      "accuracy of training set for [min_samples_splits=7-max_depths=5] =0.8411764705882353\n",
      "accuracy of validation set for [min_samples_splits=7-max_depths=5] =0.9047619047619048\n",
      "------------------------------------------------\n",
      "accuracy of training set for [min_samples_splits=1-max_depths=6] =0.8\n",
      "accuracy of validation set for [min_samples_splits=1-max_depths=6] =0.7518796992481203\n",
      "------------------------------------------------\n",
      "accuracy of training set for [min_samples_splits=2-max_depths=6] =0.8411764705882353\n",
      "accuracy of validation set for [min_samples_splits=2-max_depths=6] =0.7819548872180451\n",
      "------------------------------------------------\n",
      "accuracy of training set for [min_samples_splits=3-max_depths=6] =0.8\n",
      "accuracy of validation set for [min_samples_splits=3-max_depths=6] =0.8721804511278195\n",
      "------------------------------------------------\n"
     ]
    },
    {
     "name": "stdout",
     "output_type": "stream",
     "text": [
      "accuracy of training set for [min_samples_splits=4-max_depths=6] =0.8411764705882353\n",
      "accuracy of validation set for [min_samples_splits=4-max_depths=6] =0.9047619047619048\n",
      "------------------------------------------------\n",
      "accuracy of training set for [min_samples_splits=5-max_depths=6] =0.7764705882352941\n",
      "accuracy of validation set for [min_samples_splits=5-max_depths=6] =0.8671679197994987\n",
      "------------------------------------------------\n",
      "accuracy of training set for [min_samples_splits=6-max_depths=6] =0.8235294117647058\n",
      "accuracy of validation set for [min_samples_splits=6-max_depths=6] =0.7869674185463659\n",
      "------------------------------------------------\n",
      "accuracy of training set for [min_samples_splits=7-max_depths=6] =0.8235294117647058\n",
      "accuracy of validation set for [min_samples_splits=7-max_depths=6] =0.7869674185463659\n",
      "------------------------------------------------\n",
      "accuracy of training set for [min_samples_splits=1-max_depths=7] =0.9\n",
      "accuracy of validation set for [min_samples_splits=1-max_depths=7] =0.8947368421052632\n",
      "------------------------------------------------\n",
      "accuracy of training set for [min_samples_splits=2-max_depths=7] =0.8529411764705882\n",
      "accuracy of validation set for [min_samples_splits=2-max_depths=7] =0.899749373433584\n",
      "------------------------------------------------\n",
      "accuracy of training set for [min_samples_splits=3-max_depths=7] =0.8352941176470589\n",
      "accuracy of validation set for [min_samples_splits=3-max_depths=7] =0.7944862155388471\n",
      "------------------------------------------------\n",
      "accuracy of training set for [min_samples_splits=4-max_depths=7] =0.8294117647058824\n",
      "accuracy of validation set for [min_samples_splits=4-max_depths=7] =0.8170426065162907\n",
      "------------------------------------------------\n",
      "accuracy of training set for [min_samples_splits=5-max_depths=7] =0.8\n",
      "accuracy of validation set for [min_samples_splits=5-max_depths=7] =0.8771929824561403\n",
      "------------------------------------------------\n",
      "accuracy of training set for [min_samples_splits=6-max_depths=7] =0.8235294117647058\n",
      "accuracy of validation set for [min_samples_splits=6-max_depths=7] =0.8421052631578947\n",
      "------------------------------------------------\n",
      "accuracy of training set for [min_samples_splits=7-max_depths=7] =0.8117647058823529\n",
      "accuracy of validation set for [min_samples_splits=7-max_depths=7] =0.8220551378446115\n",
      "------------------------------------------------\n",
      "accuracy of training set for [min_samples_splits=1-max_depths=8] =0.8470588235294118\n",
      "accuracy of validation set for [min_samples_splits=1-max_depths=8] =0.7944862155388471\n",
      "------------------------------------------------\n",
      "accuracy of training set for [min_samples_splits=2-max_depths=8] =0.8705882352941177\n",
      "accuracy of validation set for [min_samples_splits=2-max_depths=8] =0.8922305764411027\n",
      "------------------------------------------------\n",
      "accuracy of training set for [min_samples_splits=3-max_depths=8] =0.7647058823529411\n",
      "accuracy of validation set for [min_samples_splits=3-max_depths=8] =0.8045112781954887\n",
      "------------------------------------------------\n",
      "accuracy of training set for [min_samples_splits=4-max_depths=8] =0.8058823529411765\n",
      "accuracy of validation set for [min_samples_splits=4-max_depths=8] =0.8621553884711779\n",
      "------------------------------------------------\n",
      "accuracy of training set for [min_samples_splits=5-max_depths=8] =0.8352941176470589\n",
      "accuracy of validation set for [min_samples_splits=5-max_depths=8] =0.899749373433584\n",
      "------------------------------------------------\n",
      "accuracy of training set for [min_samples_splits=6-max_depths=8] =0.8411764705882353\n",
      "accuracy of validation set for [min_samples_splits=6-max_depths=8] =0.9047619047619048\n",
      "------------------------------------------------\n",
      "accuracy of training set for [min_samples_splits=7-max_depths=8] =0.8823529411764706\n",
      "accuracy of validation set for [min_samples_splits=7-max_depths=8] =0.9022556390977443\n",
      "------------------------------------------------\n",
      "accuracy of training set for [min_samples_splits=1-max_depths=9] =0.6588235294117647\n",
      "accuracy of validation set for [min_samples_splits=1-max_depths=9] =0.7543859649122807\n",
      "------------------------------------------------\n",
      "accuracy of training set for [min_samples_splits=2-max_depths=9] =0.8823529411764706\n",
      "accuracy of validation set for [min_samples_splits=2-max_depths=9] =0.9147869674185464\n",
      "------------------------------------------------\n",
      "accuracy of training set for [min_samples_splits=3-max_depths=9] =0.8470588235294118\n",
      "accuracy of validation set for [min_samples_splits=3-max_depths=9] =0.9072681704260651\n",
      "------------------------------------------------\n",
      "accuracy of training set for [min_samples_splits=4-max_depths=9] =0.8411764705882353\n",
      "accuracy of validation set for [min_samples_splits=4-max_depths=9] =0.7994987468671679\n",
      "------------------------------------------------\n",
      "accuracy of training set for [min_samples_splits=5-max_depths=9] =0.8588235294117647\n",
      "accuracy of validation set for [min_samples_splits=5-max_depths=9] =0.899749373433584\n",
      "------------------------------------------------\n",
      "accuracy of training set for [min_samples_splits=6-max_depths=9] =0.8470588235294118\n",
      "accuracy of validation set for [min_samples_splits=6-max_depths=9] =0.8972431077694235\n",
      "------------------------------------------------\n",
      "accuracy of training set for [min_samples_splits=7-max_depths=9] =0.7411764705882353\n",
      "accuracy of validation set for [min_samples_splits=7-max_depths=9] =0.8095238095238095\n",
      "------------------------------------------------\n",
      "accuracy of training set for [min_samples_splits=1-max_depths=10] =0.7823529411764706\n",
      "accuracy of validation set for [min_samples_splits=1-max_depths=10] =0.7468671679197995\n",
      "------------------------------------------------\n",
      "accuracy of training set for [min_samples_splits=2-max_depths=10] =0.8\n",
      "accuracy of validation set for [min_samples_splits=2-max_depths=10] =0.8721804511278195\n",
      "------------------------------------------------\n",
      "accuracy of training set for [min_samples_splits=3-max_depths=10] =0.8764705882352941\n",
      "accuracy of validation set for [min_samples_splits=3-max_depths=10] =0.8897243107769424\n",
      "------------------------------------------------\n",
      "accuracy of training set for [min_samples_splits=4-max_depths=10] =0.8470588235294118\n",
      "accuracy of validation set for [min_samples_splits=4-max_depths=10] =0.8972431077694235\n",
      "------------------------------------------------\n",
      "accuracy of training set for [min_samples_splits=5-max_depths=10] =0.7941176470588235\n",
      "accuracy of validation set for [min_samples_splits=5-max_depths=10] =0.8471177944862155\n",
      "------------------------------------------------\n",
      "accuracy of training set for [min_samples_splits=6-max_depths=10] =0.7647058823529411\n",
      "accuracy of validation set for [min_samples_splits=6-max_depths=10] =0.8045112781954887\n",
      "------------------------------------------------\n",
      "accuracy of training set for [min_samples_splits=7-max_depths=10] =0.8529411764705882\n",
      "accuracy of validation set for [min_samples_splits=7-max_depths=10] =0.8696741854636592\n",
      "------------------------------------------------\n"
     ]
    }
   ],
   "source": [
    "best_max_depth = None\n",
    "best_min_samples_split = None\n",
    "best_accuracy = 0\n",
    "best_model = None\n",
    "for max_depth in max_depths:\n",
    "    for min_samples_split in min_samples_splits:\n",
    "        clf = DecisionTree(max_depth, min_samples_split)\n",
    "        clf.fit(x_train, y_train)\n",
    "        y_val_pred = clf.predict(x_val)\n",
    "        y_train_pred = clf.predict(x_train)\n",
    "        accuracy = accuracy_score(y_val_pred, y_val)\n",
    "        train_accuracy = accuracy_score(y_train_pred, y_train)\n",
    "        \n",
    "        text = F'[min_samples_splits={min_samples_split}-max_depths={max_depth}]'\n",
    "        \n",
    "        print(f\"accuracy of training set for {text} ={train_accuracy}\")\n",
    "        print(f\"accuracy of validation set for {text} ={accuracy}\")\n",
    "        print(\"------------------------------------------------\")\n",
    "        \n",
    "        \n",
    "        if accuracy >= best_accuracy:\n",
    "            best_accuracy = accuracy\n",
    "            best_max_depth = max_depth\n",
    "            best_min_samples_split = min_samples_split\n",
    "            best_model = clf"
   ]
  },
  {
   "cell_type": "code",
   "execution_count": 83,
   "id": "45a0a0c4",
   "metadata": {},
   "outputs": [
    {
     "data": {
      "text/plain": [
       "'best_accuracy=0.9147869674185464, best_max_depth=9, best_min_samples_split=2'"
      ]
     },
     "execution_count": 83,
     "metadata": {},
     "output_type": "execute_result"
    }
   ],
   "source": [
    "F'best_accuracy={best_accuracy}, best_max_depth={best_max_depth}, best_min_samples_split={best_min_samples_split}'"
   ]
  }
 ],
 "metadata": {
  "kernelspec": {
   "display_name": "Python 3 (ipykernel)",
   "language": "python",
   "name": "python3"
  },
  "language_info": {
   "codemirror_mode": {
    "name": "ipython",
    "version": 3
   },
   "file_extension": ".py",
   "mimetype": "text/x-python",
   "name": "python",
   "nbconvert_exporter": "python",
   "pygments_lexer": "ipython3",
   "version": "3.9.12"
  },
  "toc": {
   "base_numbering": 1,
   "nav_menu": {},
   "number_sections": true,
   "sideBar": true,
   "skip_h1_title": false,
   "title_cell": "Table of Contents",
   "title_sidebar": "Contents",
   "toc_cell": false,
   "toc_position": {},
   "toc_section_display": true,
   "toc_window_display": false
  },
  "varInspector": {
   "cols": {
    "lenName": 16,
    "lenType": 16,
    "lenVar": 40
   },
   "kernels_config": {
    "python": {
     "delete_cmd_postfix": "",
     "delete_cmd_prefix": "del ",
     "library": "var_list.py",
     "varRefreshCmd": "print(var_dic_list())"
    },
    "r": {
     "delete_cmd_postfix": ") ",
     "delete_cmd_prefix": "rm(",
     "library": "var_list.r",
     "varRefreshCmd": "cat(var_dic_list()) "
    }
   },
   "types_to_exclude": [
    "module",
    "function",
    "builtin_function_or_method",
    "instance",
    "_Feature"
   ],
   "window_display": false
  }
 },
 "nbformat": 4,
 "nbformat_minor": 5
}
